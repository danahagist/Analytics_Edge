{
 "cells": [
  {
   "cell_type": "markdown",
   "metadata": {},
   "source": [
    "# Predicting Earnings from Census Data\n",
    "## Compiled By: Dana Hagist\n",
    "\n",
    "### Project and Solutions Sourced From: Analytics Edge\n",
    "\n",
    "The United States government periodically collects demographic information by conducting a census.\n",
    "\n",
    "In this problem, we are going to use census information about an individual to predict how much a person earns -- in particular, whether the person earns more than $50,000 per year. This data comes from the UCI Machine Learning Repository at http://archive.ics.uci.edu/ml/datasets/Adult\n",
    "\n",
    "The file census.csv contains 1994 census data for 31,978 individuals in the United States.\n",
    "\n",
    "The dataset includes the following 13 variables:\n",
    "\n",
    "- age = the age of the individual in years\n",
    "- workclass = the classification of the individual's working status (does the person work for the federal government, work for the local government, work without pay, and so on)\n",
    "- education = the level of education of the individual (e.g., 5th-6th grade, high school graduate, PhD, so on)\n",
    "- maritalstatus = the marital status of the individual\n",
    "- occupation = the type of work the individual does (e.g., administrative/clerical work, farming/fishing, sales and so on)\n",
    "- relationship = relationship of individual to his/her household\n",
    "- race = the individual's race\n",
    "- sex = the individual's sex\n",
    "- capitalgain = the capital gains of the individual in 1994 (from selling an asset such as a stock or bond for more than the original purchase price)\n",
    "- capitalloss = the capital losses of the individual in 1994 (from selling an asset such as a stock or bond for less than the original purchase price)\n",
    "- hoursperweek = the number of hours the individual works per week\n",
    "- nativecountry = the native country of the individual\n",
    "- over50k = whether or not the individual earned more than $50,000 in 1994"
   ]
  },
  {
   "cell_type": "markdown",
   "metadata": {},
   "source": [
    "### Problem 1.1 - A Logistic Regression Model\n",
    "\n",
    "\n",
    "Let's begin by building a logistic regression model to predict whether an individual's earnings are above $50,000 (the variable \"over50k\") using all of the other variables as independent variables. First, read the dataset census.csv into R.\n",
    "\n",
    "Then, split the data randomly into a training set and a testing set, setting the seed to 2000 before creating the split. Split the data so that the training set contains 60% of the observations, while the testing set contains 40% of the observations.\n",
    "\n",
    "Next, build a logistic regression model to predict the dependent variable \"over50k\", using all of the other variables in the dataset as independent variables. Use the training set to build the model."
   ]
  },
  {
   "cell_type": "code",
   "execution_count": 1,
   "metadata": {
    "scrolled": false
   },
   "outputs": [
    {
     "name": "stderr",
     "output_type": "stream",
     "text": [
      "Warning message:\n",
      "\"glm.fit: fitted probabilities numerically 0 or 1 occurred\""
     ]
    },
    {
     "data": {
      "text/plain": [
       "\n",
       "Call:\n",
       "glm(formula = over50k ~ ., family = \"binomial\", data = train)\n",
       "\n",
       "Deviance Residuals: \n",
       "    Min       1Q   Median       3Q      Max  \n",
       "-5.1065  -0.5037  -0.1804  -0.0008   3.3383  \n",
       "\n",
       "Coefficients: (1 not defined because of singularities)\n",
       "                                           Estimate Std. Error z value Pr(>|z|)\n",
       "(Intercept)                              -8.658e+00  1.379e+00  -6.279 3.41e-10\n",
       "age                                       2.548e-02  2.139e-03  11.916  < 2e-16\n",
       "workclass Federal-gov                     1.105e+00  2.014e-01   5.489 4.03e-08\n",
       "workclass Local-gov                       3.675e-01  1.821e-01   2.018 0.043641\n",
       "workclass Never-worked                   -1.283e+01  8.453e+02  -0.015 0.987885\n",
       "workclass Private                         6.012e-01  1.626e-01   3.698 0.000218\n",
       "workclass Self-emp-inc                    7.575e-01  1.950e-01   3.884 0.000103\n",
       "workclass Self-emp-not-inc                1.855e-01  1.774e-01   1.046 0.295646\n",
       "workclass State-gov                       4.012e-01  1.961e-01   2.046 0.040728\n",
       "workclass Without-pay                    -1.395e+01  6.597e+02  -0.021 0.983134\n",
       "education 11th                            2.225e-01  2.867e-01   0.776 0.437738\n",
       "education 12th                            6.380e-01  3.597e-01   1.774 0.076064\n",
       "education 1st-4th                        -7.075e-01  7.760e-01  -0.912 0.361897\n",
       "education 5th-6th                        -3.170e-01  4.880e-01  -0.650 0.516008\n",
       "education 7th-8th                        -3.498e-01  3.126e-01  -1.119 0.263152\n",
       "education 9th                            -1.258e-01  3.539e-01  -0.355 0.722228\n",
       "education Assoc-acdm                      1.602e+00  2.427e-01   6.601 4.10e-11\n",
       "education Assoc-voc                       1.541e+00  2.368e-01   6.506 7.74e-11\n",
       "education Bachelors                       2.177e+00  2.218e-01   9.817  < 2e-16\n",
       "education Doctorate                       2.761e+00  2.893e-01   9.544  < 2e-16\n",
       "education HS-grad                         1.006e+00  2.169e-01   4.638 3.52e-06\n",
       "education Masters                         2.421e+00  2.353e-01  10.289  < 2e-16\n",
       "education Preschool                      -2.237e+01  6.864e+02  -0.033 0.973996\n",
       "education Prof-school                     2.938e+00  2.753e-01  10.672  < 2e-16\n",
       "education Some-college                    1.365e+00  2.195e-01   6.219 5.00e-10\n",
       "maritalstatus Married-AF-spouse           2.540e+00  7.145e-01   3.555 0.000378\n",
       "maritalstatus Married-civ-spouse          2.458e+00  3.573e-01   6.880 6.00e-12\n",
       "maritalstatus Married-spouse-absent      -9.486e-02  3.204e-01  -0.296 0.767155\n",
       "maritalstatus Never-married              -4.515e-01  1.139e-01  -3.962 7.42e-05\n",
       "maritalstatus Separated                   3.609e-02  1.984e-01   0.182 0.855672\n",
       "maritalstatus Widowed                     1.858e-01  1.962e-01   0.947 0.343449\n",
       "occupation Adm-clerical                   9.470e-02  1.288e-01   0.735 0.462064\n",
       "occupation Armed-Forces                  -1.008e+00  1.487e+00  -0.677 0.498170\n",
       "occupation Craft-repair                   2.174e-01  1.109e-01   1.960 0.049972\n",
       "occupation Exec-managerial                9.400e-01  1.138e-01   8.257  < 2e-16\n",
       "occupation Farming-fishing               -1.068e+00  1.908e-01  -5.599 2.15e-08\n",
       "occupation Handlers-cleaners             -6.237e-01  1.946e-01  -3.204 0.001353\n",
       "occupation Machine-op-inspct             -1.862e-01  1.376e-01  -1.353 0.176061\n",
       "occupation Other-service                 -8.183e-01  1.641e-01  -4.987 6.14e-07\n",
       "occupation Priv-house-serv               -1.297e+01  2.267e+02  -0.057 0.954385\n",
       "occupation Prof-specialty                 6.331e-01  1.222e-01   5.180 2.22e-07\n",
       "occupation Protective-serv                6.267e-01  1.710e-01   3.664 0.000248\n",
       "occupation Sales                          3.276e-01  1.175e-01   2.789 0.005282\n",
       "occupation Tech-support                   6.173e-01  1.533e-01   4.028 5.63e-05\n",
       "occupation Transport-moving                      NA         NA      NA       NA\n",
       "relationship Not-in-family                7.881e-01  3.530e-01   2.233 0.025562\n",
       "relationship Other-relative              -2.194e-01  3.137e-01  -0.699 0.484263\n",
       "relationship Own-child                   -7.489e-01  3.507e-01  -2.136 0.032716\n",
       "relationship Unmarried                    7.041e-01  3.720e-01   1.893 0.058392\n",
       "relationship Wife                         1.324e+00  1.331e-01   9.942  < 2e-16\n",
       "race Asian-Pac-Islander                   4.830e-01  3.548e-01   1.361 0.173504\n",
       "race Black                                3.644e-01  2.882e-01   1.265 0.206001\n",
       "race Other                                2.204e-01  4.513e-01   0.488 0.625263\n",
       "race White                                4.108e-01  2.737e-01   1.501 0.133356\n",
       "sex Male                                  7.729e-01  1.024e-01   7.545 4.52e-14\n",
       "capitalgain                               3.280e-04  1.372e-05  23.904  < 2e-16\n",
       "capitalloss                               6.445e-04  4.854e-05  13.277  < 2e-16\n",
       "hoursperweek                              2.897e-02  2.101e-03  13.791  < 2e-16\n",
       "nativecountry Canada                      2.593e-01  1.308e+00   0.198 0.842879\n",
       "nativecountry China                      -9.695e-01  1.327e+00  -0.730 0.465157\n",
       "nativecountry Columbia                   -1.954e+00  1.526e+00  -1.280 0.200470\n",
       "nativecountry Cuba                        5.735e-02  1.323e+00   0.043 0.965432\n",
       "nativecountry Dominican-Republic         -1.435e+01  3.092e+02  -0.046 0.962972\n",
       "nativecountry Ecuador                    -3.550e-02  1.477e+00  -0.024 0.980829\n",
       "nativecountry El-Salvador                -6.095e-01  1.395e+00  -0.437 0.662181\n",
       "nativecountry England                    -6.707e-02  1.327e+00  -0.051 0.959686\n",
       "nativecountry France                      5.301e-01  1.419e+00   0.374 0.708642\n",
       "nativecountry Germany                     5.474e-02  1.306e+00   0.042 0.966572\n",
       "nativecountry Greece                     -2.646e+00  1.714e+00  -1.544 0.122527\n",
       "nativecountry Guatemala                  -1.293e+01  3.345e+02  -0.039 0.969180\n",
       "nativecountry Haiti                      -9.221e-01  1.615e+00  -0.571 0.568105\n",
       "nativecountry Holand-Netherlands         -1.282e+01  2.400e+03  -0.005 0.995736\n",
       "nativecountry Honduras                   -9.584e-01  3.412e+00  -0.281 0.778775\n",
       "nativecountry Hong                       -2.362e-01  1.492e+00  -0.158 0.874155\n",
       "nativecountry Hungary                     1.412e-01  1.555e+00   0.091 0.927653\n",
       "nativecountry India                      -8.218e-01  1.314e+00  -0.625 0.531661\n",
       "nativecountry Iran                       -3.299e-02  1.366e+00  -0.024 0.980736\n",
       "nativecountry Ireland                     1.579e-01  1.473e+00   0.107 0.914628\n",
       "nativecountry Italy                       6.100e-01  1.333e+00   0.458 0.647194\n",
       "nativecountry Jamaica                    -2.279e-01  1.387e+00  -0.164 0.869467\n",
       "nativecountry Japan                       5.072e-01  1.375e+00   0.369 0.712179\n",
       "nativecountry Laos                       -6.831e-01  1.661e+00  -0.411 0.680866\n",
       "nativecountry Mexico                     -9.182e-01  1.303e+00  -0.705 0.481103\n",
       "nativecountry Nicaragua                  -1.987e-01  1.507e+00  -0.132 0.895132\n",
       "nativecountry Outlying-US(Guam-USVI-etc) -1.373e+01  8.502e+02  -0.016 0.987115\n",
       "nativecountry Peru                       -9.660e-01  1.678e+00  -0.576 0.564797\n",
       "nativecountry Philippines                 4.393e-02  1.281e+00   0.034 0.972640\n",
       "nativecountry Poland                      2.410e-01  1.383e+00   0.174 0.861624\n",
       "nativecountry Portugal                    7.276e-01  1.477e+00   0.493 0.622327\n",
       "nativecountry Puerto-Rico                -5.769e-01  1.357e+00  -0.425 0.670837\n",
       "nativecountry Scotland                   -1.188e+00  1.719e+00  -0.691 0.489616\n",
       "nativecountry South                      -8.183e-01  1.341e+00  -0.610 0.541809\n",
       "nativecountry Taiwan                     -2.590e-01  1.350e+00  -0.192 0.847878\n",
       "nativecountry Thailand                   -1.693e+00  1.737e+00  -0.975 0.329678\n",
       "nativecountry Trinadad&Tobago            -1.346e+00  1.721e+00  -0.782 0.434105\n",
       "nativecountry United-States              -8.594e-02  1.269e+00  -0.068 0.946020\n",
       "nativecountry Vietnam                    -1.008e+00  1.523e+00  -0.662 0.507799\n",
       "nativecountry Yugoslavia                  1.402e+00  1.648e+00   0.851 0.394874\n",
       "                                            \n",
       "(Intercept)                              ***\n",
       "age                                      ***\n",
       "workclass Federal-gov                    ***\n",
       "workclass Local-gov                      *  \n",
       "workclass Never-worked                      \n",
       "workclass Private                        ***\n",
       "workclass Self-emp-inc                   ***\n",
       "workclass Self-emp-not-inc                  \n",
       "workclass State-gov                      *  \n",
       "workclass Without-pay                       \n",
       "education 11th                              \n",
       "education 12th                           .  \n",
       "education 1st-4th                           \n",
       "education 5th-6th                           \n",
       "education 7th-8th                           \n",
       "education 9th                               \n",
       "education Assoc-acdm                     ***\n",
       "education Assoc-voc                      ***\n",
       "education Bachelors                      ***\n",
       "education Doctorate                      ***\n",
       "education HS-grad                        ***\n",
       "education Masters                        ***\n",
       "education Preschool                         \n",
       "education Prof-school                    ***\n",
       "education Some-college                   ***\n",
       "maritalstatus Married-AF-spouse          ***\n",
       "maritalstatus Married-civ-spouse         ***\n",
       "maritalstatus Married-spouse-absent         \n",
       "maritalstatus Never-married              ***\n",
       "maritalstatus Separated                     \n",
       "maritalstatus Widowed                       \n",
       "occupation Adm-clerical                     \n",
       "occupation Armed-Forces                     \n",
       "occupation Craft-repair                  *  \n",
       "occupation Exec-managerial               ***\n",
       "occupation Farming-fishing               ***\n",
       "occupation Handlers-cleaners             ** \n",
       "occupation Machine-op-inspct                \n",
       "occupation Other-service                 ***\n",
       "occupation Priv-house-serv                  \n",
       "occupation Prof-specialty                ***\n",
       "occupation Protective-serv               ***\n",
       "occupation Sales                         ** \n",
       "occupation Tech-support                  ***\n",
       "occupation Transport-moving                 \n",
       "relationship Not-in-family               *  \n",
       "relationship Other-relative                 \n",
       "relationship Own-child                   *  \n",
       "relationship Unmarried                   .  \n",
       "relationship Wife                        ***\n",
       "race Asian-Pac-Islander                     \n",
       "race Black                                  \n",
       "race Other                                  \n",
       "race White                                  \n",
       "sex Male                                 ***\n",
       "capitalgain                              ***\n",
       "capitalloss                              ***\n",
       "hoursperweek                             ***\n",
       "nativecountry Canada                        \n",
       "nativecountry China                         \n",
       "nativecountry Columbia                      \n",
       "nativecountry Cuba                          \n",
       "nativecountry Dominican-Republic            \n",
       "nativecountry Ecuador                       \n",
       "nativecountry El-Salvador                   \n",
       "nativecountry England                       \n",
       "nativecountry France                        \n",
       "nativecountry Germany                       \n",
       "nativecountry Greece                        \n",
       "nativecountry Guatemala                     \n",
       "nativecountry Haiti                         \n",
       "nativecountry Holand-Netherlands            \n",
       "nativecountry Honduras                      \n",
       "nativecountry Hong                          \n",
       "nativecountry Hungary                       \n",
       "nativecountry India                         \n",
       "nativecountry Iran                          \n",
       "nativecountry Ireland                       \n",
       "nativecountry Italy                         \n",
       "nativecountry Jamaica                       \n",
       "nativecountry Japan                         \n",
       "nativecountry Laos                          \n",
       "nativecountry Mexico                        \n",
       "nativecountry Nicaragua                     \n",
       "nativecountry Outlying-US(Guam-USVI-etc)    \n",
       "nativecountry Peru                          \n",
       "nativecountry Philippines                   \n",
       "nativecountry Poland                        \n",
       "nativecountry Portugal                      \n",
       "nativecountry Puerto-Rico                   \n",
       "nativecountry Scotland                      \n",
       "nativecountry South                         \n",
       "nativecountry Taiwan                        \n",
       "nativecountry Thailand                      \n",
       "nativecountry Trinadad&Tobago               \n",
       "nativecountry United-States                 \n",
       "nativecountry Vietnam                       \n",
       "nativecountry Yugoslavia                    \n",
       "---\n",
       "Signif. codes:  0 '***' 0.001 '**' 0.01 '*' 0.05 '.' 0.1 ' ' 1\n",
       "\n",
       "(Dispersion parameter for binomial family taken to be 1)\n",
       "\n",
       "    Null deviance: 21175  on 19186  degrees of freedom\n",
       "Residual deviance: 12104  on 19090  degrees of freedom\n",
       "AIC: 12298\n",
       "\n",
       "Number of Fisher Scoring iterations: 15\n"
      ]
     },
     "metadata": {},
     "output_type": "display_data"
    }
   ],
   "source": [
    "# Solution:\n",
    "setwd('C:/Users/a83644/Documents/Coursework/Analytics Edge/Predicting Earnings from Census')\n",
    "census = read.csv(\"census.csv\")\n",
    "\n",
    "# Need to split the data. Load caTools package, and set seed to 2000:\n",
    "\n",
    "library(caTools)\n",
    "\n",
    "set.seed(2000)\n",
    "\n",
    "#Split the data set according to the over50k variable:\n",
    "\n",
    "spl = sample.split(census$over50k, SplitRatio = 0.6)\n",
    "\n",
    "train = subset(census, spl==TRUE)\n",
    "\n",
    "test = subset(census, spl==FALSE)\n",
    "\n",
    "# Build the logistic regression model:\n",
    "\n",
    "censusglm = glm( over50k ~ . , family=\"binomial\", data = train)\n",
    "\n",
    "#Look at the model summary to identify the significant factors:\n",
    "\n",
    "summary(censusglm)"
   ]
  },
  {
   "cell_type": "markdown",
   "metadata": {},
   "source": [
    "### Problem 1.2 - A Logistic Regression Model\n",
    "\n",
    "What is the accuracy of the model on the testing set? Use a threshold of 0.5. (You might see a warning message when you make predictions on the test set - you can safely ignore it.)"
   ]
  },
  {
   "cell_type": "code",
   "execution_count": 2,
   "metadata": {},
   "outputs": [
    {
     "name": "stderr",
     "output_type": "stream",
     "text": [
      "Warning message in predict.lm(object, newdata, se.fit, scale = 1, type = ifelse(type == :\n",
      "\"prediction from a rank-deficient fit may be misleading\""
     ]
    },
    {
     "data": {
      "text/plain": [
       "        \n",
       "         FALSE TRUE\n",
       "   <=50K  9051  662\n",
       "   >50K   1190 1888"
      ]
     },
     "metadata": {},
     "output_type": "display_data"
    },
    {
     "data": {
      "text/html": [
       "0.855210695019936"
      ],
      "text/latex": [
       "0.855210695019936"
      ],
      "text/markdown": [
       "0.855210695019936"
      ],
      "text/plain": [
       "[1] 0.8552107"
      ]
     },
     "metadata": {},
     "output_type": "display_data"
    }
   ],
   "source": [
    "# Solution: \n",
    "#Generate the predictions for the test set:\n",
    "\n",
    "predictTestglm = predict(censusglm, newdata = test, type = \"response\")\n",
    "\n",
    "#Then we can generate the confusion matrix:\n",
    "\n",
    "table(test$over50k, predictTestglm >= 0.5)\n",
    "\n",
    "#If we divide the sum of the main diagonal by \n",
    "# the sum of all of the entries in the matrix, we obtain the accuracy:\n",
    "\n",
    "(9051+1888)/(9051+662+1190+1888)"
   ]
  },
  {
   "cell_type": "markdown",
   "metadata": {},
   "source": [
    "### Problem 1.3 - A Logistic Regression Model\n",
    "\n",
    "What is the baseline accuracy for the testing set?"
   ]
  },
  {
   "cell_type": "code",
   "execution_count": 3,
   "metadata": {},
   "outputs": [
    {
     "data": {
      "text/plain": [
       "\n",
       " <=50K   >50K \n",
       " 14570   4617 "
      ]
     },
     "metadata": {},
     "output_type": "display_data"
    },
    {
     "data": {
      "text/plain": [
       "\n",
       " <=50K   >50K \n",
       "  9713   3078 "
      ]
     },
     "metadata": {},
     "output_type": "display_data"
    },
    {
     "data": {
      "text/html": [
       "0.75936205144242"
      ],
      "text/latex": [
       "0.75936205144242"
      ],
      "text/markdown": [
       "0.75936205144242"
      ],
      "text/plain": [
       "[1] 0.7593621"
      ]
     },
     "metadata": {},
     "output_type": "display_data"
    }
   ],
   "source": [
    "# Solution\n",
    "table(train$over50k)\n",
    "table(test$over50k)\n",
    "9713/(9713+3078)"
   ]
  },
  {
   "cell_type": "markdown",
   "metadata": {},
   "source": [
    "Most frequent outcome is <=50k, so that would be the baseline prediction.\n",
    "\n",
    "Baseline accuracy is 76% as calculated above."
   ]
  },
  {
   "cell_type": "markdown",
   "metadata": {},
   "source": [
    "### Problem 1.4 - A Logistic Regression Model\n",
    "\n",
    "What is the area-under-the-curve (AUC) for this model on the test set?"
   ]
  },
  {
   "cell_type": "code",
   "execution_count": 4,
   "metadata": {},
   "outputs": [
    {
     "name": "stderr",
     "output_type": "stream",
     "text": [
      "also installing the dependencies 'gtools', 'gdata', 'gplots'\n",
      "\n"
     ]
    },
    {
     "name": "stdout",
     "output_type": "stream",
     "text": [
      "package 'gtools' successfully unpacked and MD5 sums checked\n",
      "package 'gdata' successfully unpacked and MD5 sums checked\n",
      "package 'gplots' successfully unpacked and MD5 sums checked\n",
      "package 'ROCR' successfully unpacked and MD5 sums checked\n",
      "\n",
      "The downloaded binary packages are in\n",
      "\tC:\\Users\\a83644\\AppData\\Local\\Temp\\RtmpO6AbFF\\downloaded_packages\n"
     ]
    },
    {
     "name": "stderr",
     "output_type": "stream",
     "text": [
      "Warning message:\n",
      "\"package 'ROCR' was built under R version 3.4.4\"Loading required package: gplots\n",
      "Warning message:\n",
      "\"package 'gplots' was built under R version 3.4.4\"\n",
      "Attaching package: 'gplots'\n",
      "\n",
      "The following object is masked from 'package:stats':\n",
      "\n",
      "    lowess\n",
      "\n"
     ]
    }
   ],
   "source": [
    "# Install necessary package\n",
    "install.packages('ROCR', repos='http://cran.us.r-project.org')\n",
    "library(ROCR)"
   ]
  },
  {
   "cell_type": "code",
   "execution_count": 5,
   "metadata": {},
   "outputs": [
    {
     "data": {
      "text/html": [
       "0.906159757757142"
      ],
      "text/latex": [
       "0.906159757757142"
      ],
      "text/markdown": [
       "0.906159757757142"
      ],
      "text/plain": [
       "[1] 0.9061598"
      ]
     },
     "metadata": {},
     "output_type": "display_data"
    }
   ],
   "source": [
    "# Solution:\n",
    "# Compute the AUC\n",
    "\n",
    "ROCRpred <- prediction(predictTestglm, test$over50k)\n",
    "\n",
    "as.numeric(performance(ROCRpred, \"auc\")@y.values)"
   ]
  },
  {
   "cell_type": "markdown",
   "metadata": {},
   "source": [
    "### Problem 2.1 - A CART Model\n",
    "\n",
    "We have just seen how the logistic regression model for this data achieves a high accuracy. Moreover, the significances of the variables give us a way to gauge which variables are relevant for this prediction task. However, it is not immediately clear which variables are more important than the others, especially due to the large number of factor variables in this problem.\n",
    "\n",
    "Let us now build a classification tree to predict \"over50k\". Use the training set to build the model, and all of the other variables as independent variables. Use the default parameters, so don't set a value for minbucket or cp. Remember to specify method=\"class\" as an argument to rpart, since this is a classification problem. After you are done building the model, plot the resulting tree.\n",
    "\n",
    "Determine how many splits the tree has in total"
   ]
  },
  {
   "cell_type": "code",
   "execution_count": 6,
   "metadata": {},
   "outputs": [
    {
     "name": "stdout",
     "output_type": "stream",
     "text": [
      "package 'rpart' successfully unpacked and MD5 sums checked\n",
      "\n",
      "The downloaded binary packages are in\n",
      "\tC:\\Users\\a83644\\AppData\\Local\\Temp\\RtmpO6AbFF\\downloaded_packages\n",
      "package 'rpart.plot' successfully unpacked and MD5 sums checked\n",
      "\n",
      "The downloaded binary packages are in\n",
      "\tC:\\Users\\a83644\\AppData\\Local\\Temp\\RtmpO6AbFF\\downloaded_packages\n"
     ]
    },
    {
     "name": "stderr",
     "output_type": "stream",
     "text": [
      "Warning message:\n",
      "\"package 'rpart' was built under R version 3.4.4\"Warning message:\n",
      "\"package 'rpart.plot' was built under R version 3.4.4\""
     ]
    },
    {
     "data": {
      "image/png": "[encoded data removed]",
      "text/plain": [
       "plot without title"
      ]
     },
     "metadata": {},
     "output_type": "display_data"
    }
   ],
   "source": [
    "# Solution:\n",
    "# Load the rpart and rpart.plot packages:\n",
    "install.packages('rpart', repos='http://cran.us.r-project.org')\n",
    "install.packages('rpart.plot', repos='http://cran.us.r-project.org')\n",
    "library(rpart)\n",
    "library(rpart.plot)\n",
    "\n",
    "# Estimate the CART tree:\n",
    "\n",
    "censustree = rpart( over50k ~ . , method=\"class\", data = train)\n",
    "\n",
    "# Plot the tree:\n",
    "\n",
    "prp(censustree)\n",
    "\n",
    "#There are four splits in total."
   ]
  },
  {
   "cell_type": "markdown",
   "metadata": {},
   "source": [
    "### Problem 2.2 - A CART Model\n",
    "\n",
    "Which variable does the tree split on at the first level (the very first split of the tree)?"
   ]
  },
  {
   "cell_type": "markdown",
   "metadata": {},
   "source": [
    "Solution: Very first split on the tree is relationship."
   ]
  },
  {
   "cell_type": "markdown",
   "metadata": {},
   "source": [
    "### Problem 2.3 - A CART Model\n",
    "\n",
    "Which variables does the tree split on at the second level (immediately after the first split of the tree)?"
   ]
  },
  {
   "cell_type": "markdown",
   "metadata": {},
   "source": [
    "Solution: Second level splits include capitalgain and education."
   ]
  },
  {
   "cell_type": "markdown",
   "metadata": {},
   "source": [
    "### Problem 2.4 - A CART Model\n",
    "\n",
    "What is the accuracy of the model on the testing set? Use a threshold of 0.5. (You can either add the argument type=\"class\", or generate probabilities and use a threshold of 0.5 like in logistic regression.)\n",
    "unanswered\n",
    "\n",
    "Solution: (see code cell below) 84.74% \n",
    "\n",
    "This highlights a very regular phenomenon when comparing CART and logistic regression. CART often performs a little worse than logistic regression in out-of-sample accuracy. However, as is the case here, the CART model is often much simpler to describe and understand. "
   ]
  },
  {
   "cell_type": "code",
   "execution_count": 7,
   "metadata": {},
   "outputs": [
    {
     "data": {
      "text/plain": [
       "        predictTestcart\n",
       "          <=50K  >50K\n",
       "   <=50K   9243   470\n",
       "   >50K    1482  1596"
      ]
     },
     "metadata": {},
     "output_type": "display_data"
    },
    {
     "data": {
      "text/html": [
       "0.847392697990775"
      ],
      "text/latex": [
       "0.847392697990775"
      ],
      "text/markdown": [
       "0.847392697990775"
      ],
      "text/plain": [
       "[1] 0.8473927"
      ]
     },
     "metadata": {},
     "output_type": "display_data"
    }
   ],
   "source": [
    "# Generate predictions on the test set using the CART tree:\n",
    "\n",
    "predictTestcart = predict(censustree, newdata = test, type = \"class\")\n",
    "\n",
    "# Create the confusion matrix:\n",
    "\n",
    "table(test$over50k, predictTestcart)\n",
    "\n",
    "# Compute accuracy, sum diagonal entries and divide by sum of all terms:\n",
    "\n",
    "(9243+1596)/(9243+470+1482+1596)"
   ]
  },
  {
   "cell_type": "markdown",
   "metadata": {},
   "source": [
    "### Problem 2.5 - A CART Model\n",
    "\n",
    "Let us now consider the ROC curve and AUC for the CART model on the test set. You will need to get predicted probabilities for the observations in the test set to build the ROC curve and compute the AUC. Remember that you can do this by removing the type=\"class\" argument when making predictions, and taking the second column of the resulting object.\n",
    "\n",
    "Plot the ROC curve for the CART model you have estimated. Observe that compared to the logistic regression ROC curve, the CART ROC curve is less smooth than the logistic regression ROC curve. Which of the following explanations for this behavior is most correct? (HINT: Think about what the ROC curve is plotting and what changing the threshold does.)\n",
    "\n",
    "Solution: The probabilities from the CART model take only a handful of values (five, one for each end bucket/leaf of the tree); the changes in the ROC curve correspond to setting the threshold to one of those values.  Stated differently, the breakpoints of the curve correspond to the false and true positive rates when the threshold is set to the five possible probability values. "
   ]
  },
  {
   "cell_type": "code",
   "execution_count": 8,
   "metadata": {},
   "outputs": [
    {
     "data": {
      "text/html": [
       "<table>\n",
       "<thead><tr><th></th><th scope=col> &lt;=50K</th><th scope=col> &gt;50K</th></tr></thead>\n",
       "<tbody>\n",
       "\t<tr><th scope=row>2</th><td>0.2794982 </td><td>0.72050176</td></tr>\n",
       "\t<tr><th scope=row>5</th><td>0.2794982 </td><td>0.72050176</td></tr>\n",
       "\t<tr><th scope=row>7</th><td>0.9490143 </td><td>0.05098572</td></tr>\n",
       "\t<tr><th scope=row>8</th><td>0.6972807 </td><td>0.30271934</td></tr>\n",
       "\t<tr><th scope=row>11</th><td>0.6972807 </td><td>0.30271934</td></tr>\n",
       "\t<tr><th scope=row>12</th><td>0.2794982 </td><td>0.72050176</td></tr>\n",
       "</tbody>\n",
       "</table>\n"
      ],
      "text/latex": [
       "\\begin{tabular}{r|ll}\n",
       "  &  <=50K &  >50K\\\\\n",
       "\\hline\n",
       "\t2 & 0.2794982  & 0.72050176\\\\\n",
       "\t5 & 0.2794982  & 0.72050176\\\\\n",
       "\t7 & 0.9490143  & 0.05098572\\\\\n",
       "\t8 & 0.6972807  & 0.30271934\\\\\n",
       "\t11 & 0.6972807  & 0.30271934\\\\\n",
       "\t12 & 0.2794982  & 0.72050176\\\\\n",
       "\\end{tabular}\n"
      ],
      "text/markdown": [
       "\n",
       "| <!--/--> |  <=50K |  >50K | \n",
       "|---|---|---|---|---|---|\n",
       "| 2 | 0.2794982  | 0.72050176 | \n",
       "| 5 | 0.2794982  | 0.72050176 | \n",
       "| 7 | 0.9490143  | 0.05098572 | \n",
       "| 8 | 0.6972807  | 0.30271934 | \n",
       "| 11 | 0.6972807  | 0.30271934 | \n",
       "| 12 | 0.2794982  | 0.72050176 | \n",
       "\n",
       "\n"
      ],
      "text/plain": [
       "    <=50K     >50K     \n",
       "2  0.2794982 0.72050176\n",
       "5  0.2794982 0.72050176\n",
       "7  0.9490143 0.05098572\n",
       "8  0.6972807 0.30271934\n",
       "11 0.6972807 0.30271934\n",
       "12 0.2794982 0.72050176"
      ]
     },
     "metadata": {},
     "output_type": "display_data"
    },
    {
     "data": {
      "image/png": "[encoded data removed]",
      "text/plain": [
       "plot without title"
      ]
     },
     "metadata": {},
     "output_type": "display_data"
    }
   ],
   "source": [
    "# Solution:\n",
    "predictTestcart2 <- predict(censustree,newdata = test)\n",
    "head(predictTestcart2)\n",
    "\n",
    "ROCRpred_cart2 <- prediction(predictTestcart2[,2],test$over50k)\n",
    "perf = performance(ROCRpred_cart2,\"tpr\",\"fpr\")\n",
    "plot(perf)"
   ]
  },
  {
   "cell_type": "markdown",
   "metadata": {},
   "source": [
    "### Problem 2.6 - A CART Model\n",
    "\n",
    "What is the AUC of the CART model on the test set?"
   ]
  },
  {
   "cell_type": "code",
   "execution_count": 9,
   "metadata": {},
   "outputs": [
    {
     "data": {
      "text/html": [
       "0.847025569517672"
      ],
      "text/latex": [
       "0.847025569517672"
      ],
      "text/markdown": [
       "0.847025569517672"
      ],
      "text/plain": [
       "[1] 0.8470256"
      ]
     },
     "metadata": {},
     "output_type": "display_data"
    }
   ],
   "source": [
    "# Solution (see output below):\n",
    "as.numeric(performance(ROCRpred_cart2, \"auc\")@y.values)"
   ]
  },
  {
   "cell_type": "markdown",
   "metadata": {},
   "source": [
    "### Problem 3.1 - A Random Forest Model\n",
    "\n",
    "Before building a random forest model, we'll down-sample our training set. While some modern personal computers can build a random forest model on the entire training set, others might run out of memory when trying to train the model since random forests is much more computationally intensive than CART or Logistic Regression. For this reason, before continuing we will define a new training set to be used when building our random forest model, that contains 2000 randomly selected obervations from the original training set. Do this by running the following commands in your R console (assuming your training set is called \"train\"):\n",
    "\n",
    "set.seed(1)\n",
    "\n",
    "trainSmall = train[sample(nrow(train), 2000), ]\n",
    "\n",
    "Let us now build a random forest model to predict \"over50k\", using the dataset \"trainSmall\" as the data used to build the model. Set the seed to 1 again right before building the model, and use all of the other variables in the dataset as independent variables. (If you get an error that random forest \"can not handle categorical predictors with more than 32 categories\", re-build the model without the nativecountry variable as one of the independent variables.)\n",
    "\n",
    "Then, make predictions using this model on the entire test set. What is the accuracy of the model on the test set, using a threshold of 0.5? (Remember that you don't need a \"type\" argument when making predictions with a random forest model if you want to use a threshold of 0.5. Also, note that your accuracy might be different from the one reported here, since random forest models can still differ depending on your operating system, even when the random seed is set.)"
   ]
  },
  {
   "cell_type": "code",
   "execution_count": 10,
   "metadata": {},
   "outputs": [
    {
     "name": "stdout",
     "output_type": "stream",
     "text": [
      "package 'randomForest' successfully unpacked and MD5 sums checked\n",
      "\n",
      "The downloaded binary packages are in\n",
      "\tC:\\Users\\a83644\\AppData\\Local\\Temp\\RtmpO6AbFF\\downloaded_packages\n"
     ]
    },
    {
     "name": "stderr",
     "output_type": "stream",
     "text": [
      "Warning message:\n",
      "\"package 'randomForest' was built under R version 3.4.4\"randomForest 4.6-14\n",
      "Type rfNews() to see new features/changes/bug fixes.\n"
     ]
    }
   ],
   "source": [
    "# Install package\n",
    "install.packages('randomForest', repos='http://cran.us.r-project.org')\n",
    "library(randomForest)"
   ]
  },
  {
   "cell_type": "code",
   "execution_count": 11,
   "metadata": {},
   "outputs": [
    {
     "data": {
      "text/plain": [
       "        predictTestrf\n",
       "          <=50K  >50K\n",
       "   <=50K   8864   849\n",
       "   >50K    1028  2050"
      ]
     },
     "metadata": {},
     "output_type": "display_data"
    },
    {
     "data": {
      "text/html": [
       "0.833711203189743"
      ],
      "text/latex": [
       "0.833711203189743"
      ],
      "text/markdown": [
       "0.833711203189743"
      ],
      "text/plain": [
       "[1] 0.8337112"
      ]
     },
     "metadata": {},
     "output_type": "display_data"
    }
   ],
   "source": [
    "# Solution:\n",
    "set.seed(1)\n",
    "trainSmall = train[sample(nrow(train), 2000), ]\n",
    "censusrf = randomForest(over50k ~ . , data = trainSmall)\n",
    "\n",
    "# Make predictions on the test set\n",
    "\n",
    "predictTestrf = predict(censusrf, newdata=test)\n",
    "\n",
    "#Compute the accuracy, Create the confusion matrix:\n",
    "\n",
    "table(test$over50k, predictTestrf)\n",
    "\n",
    "# Accuracy of the model (see output below)\n",
    "\n",
    "(9614+1050)/nrow(test)"
   ]
  },
  {
   "cell_type": "markdown",
   "metadata": {},
   "source": [
    "### Problem 3.2 - A Random Forest Model\n",
    "\n",
    "As we discussed in lecture, random forest models work by building a large collection of trees. As a result, we lose some of the interpretability that comes with CART in terms of seeing how predictions are made and which variables are important. However, we can still compute metrics that give us insight into which variables are important.\n",
    "\n",
    "One metric that we can look at is the number of times, aggregated over all of the trees in the random forest model, that a certain variable is selected for a split. To view this metric, run the following lines of R code (replace \"MODEL\" with the name of your random forest model):\n",
    "\n",
    "vu = varUsed(MODEL, count=TRUE)\n",
    "\n",
    "vusorted = sort(vu, decreasing = FALSE, index.return = TRUE)\n",
    "\n",
    "dotchart(vusorted\\$x, names(MODEL\\$forest$xlevels[vusorted\\$ix]))\n",
    "\n",
    "This code produces a chart that for each variable measures the number of times that variable was selected for splitting (the value on the x-axis). Which of the variables is the most important in terms of the number of splits?"
   ]
  },
  {
   "cell_type": "code",
   "execution_count": 12,
   "metadata": {},
   "outputs": [
    {
     "data": {
      "image/png": "[encoded data removed]",
      "text/plain": [
       "plot without title"
      ]
     },
     "metadata": {},
     "output_type": "display_data"
    }
   ],
   "source": [
    "# Solution:\n",
    "vu = varUsed(censusrf, count=TRUE)\n",
    "\n",
    "vusorted = sort(vu, decreasing = FALSE, index.return = TRUE)\n",
    "\n",
    "dotchart(vusorted$x, names(censusrf$forest$xlevels[vusorted$ix]))"
   ]
  },
  {
   "cell_type": "markdown",
   "metadata": {},
   "source": [
    "Based on the above, you can see that age is used significantly more than the other variables."
   ]
  },
  {
   "cell_type": "markdown",
   "metadata": {},
   "source": [
    "### Problem 3.3 - A Random Forest Model\n",
    "\n",
    "A different metric we can look at is related to \"impurity\", which measures how homogenous each bucket or leaf of the tree is. In each tree in the forest, whenever we select a variable and perform a split, the impurity is decreased. Therefore, one way to measure the importance of a variable is to average the reduction in impurity, taken over all the times that variable is selected for splitting in all of the trees in the forest. To compute this metric, run the following command in R (replace \"MODEL\" with the name of your random forest model):\n",
    "\n",
    "varImpPlot(MODEL)\n",
    "\n",
    "Which one of the variables is the most important in terms of mean reduction in impurity?"
   ]
  },
  {
   "cell_type": "code",
   "execution_count": 13,
   "metadata": {},
   "outputs": [
    {
     "data": {
      "image/png": "[encoded data removed]",
      "text/plain": [
       "Plot with title \"censusrf\""
      ]
     },
     "metadata": {},
     "output_type": "display_data"
    }
   ],
   "source": [
    "# Solution:\n",
    "varImpPlot(censusrf)"
   ]
  },
  {
   "cell_type": "markdown",
   "metadata": {},
   "source": [
    "The above suggests that the Occupation gives the largest reduction in impurity than the other variables.\n",
    "\n",
    "The importance is measured by the average reduction in impurity.  Both age and occupation are important variables in both metrics explored above.  However, the order is different, as the importance measured by the number of times a variable is split is calculated differently."
   ]
  },
  {
   "cell_type": "markdown",
   "metadata": {},
   "source": [
    "### Problem 4.1 - Selecting cp by Cross-Validation\n",
    "\n",
    "We now conclude our study of this data set by looking at how CART behaves with different choices of its parameters.\n",
    "\n",
    "Let us select the cp parameter for our CART model using k-fold cross validation, with k = 10 folds. Do this by using the train function. Set the seed beforehand to 2. Test cp values from 0.002 to 0.1 in 0.002 increments, by using the following command:\n",
    "\n",
    "cartGrid = expand.grid( .cp = seq(0.002,0.1,0.002))\n",
    "\n",
    "Also, remember to use the entire training set \"train\" when building this model. The train function might take some time to run.\n",
    "\n",
    "Which value of cp does the train function recommend?"
   ]
  },
  {
   "cell_type": "code",
   "execution_count": 14,
   "metadata": {},
   "outputs": [
    {
     "name": "stdout",
     "output_type": "stream",
     "text": [
      "package 'caret' successfully unpacked and MD5 sums checked\n",
      "\n",
      "The downloaded binary packages are in\n",
      "\tC:\\Users\\a83644\\AppData\\Local\\Temp\\RtmpO6AbFF\\downloaded_packages\n"
     ]
    },
    {
     "name": "stderr",
     "output_type": "stream",
     "text": [
      "Warning message:\n",
      "\"package 'caret' was built under R version 3.4.4\"Loading required package: lattice\n",
      "Loading required package: ggplot2\n",
      "\n",
      "Attaching package: 'ggplot2'\n",
      "\n",
      "The following object is masked from 'package:randomForest':\n",
      "\n",
      "    margin\n",
      "\n"
     ]
    }
   ],
   "source": [
    "# Install package\n",
    "install.packages('caret', repos='http://cran.us.r-project.org')\n",
    "library(caret)"
   ]
  },
  {
   "cell_type": "code",
   "execution_count": 16,
   "metadata": {},
   "outputs": [
    {
     "name": "stderr",
     "output_type": "stream",
     "text": [
      "also installing the dependencies 'mlbench', 'SparseM'\n",
      "\n"
     ]
    },
    {
     "name": "stdout",
     "output_type": "stream",
     "text": [
      "package 'mlbench' successfully unpacked and MD5 sums checked\n",
      "package 'SparseM' successfully unpacked and MD5 sums checked\n",
      "package 'e1071' successfully unpacked and MD5 sums checked\n",
      "\n",
      "The downloaded binary packages are in\n",
      "\tC:\\Users\\a83644\\AppData\\Local\\Temp\\RtmpO6AbFF\\downloaded_packages\n"
     ]
    }
   ],
   "source": [
    "install.packages('e1071', repos='http://cran.us.r-project.org', dependencies=TRUE)"
   ]
  },
  {
   "cell_type": "code",
   "execution_count": 17,
   "metadata": {},
   "outputs": [
    {
     "data": {
      "text/plain": [
       "CART \n",
       "\n",
       "19187 samples\n",
       "   12 predictor\n",
       "    2 classes: ' <=50K', ' >50K' \n",
       "\n",
       "No pre-processing\n",
       "Resampling: Cross-Validated (10 fold) \n",
       "Summary of sample sizes: 17268, 17268, 17269, 17269, 17269, 17268, ... \n",
       "Resampling results across tuning parameters:\n",
       "\n",
       "  cp     Accuracy   Kappa     \n",
       "  0.002  0.8510972  0.55404931\n",
       "  0.004  0.8482829  0.55537475\n",
       "  0.006  0.8452078  0.53914084\n",
       "  0.008  0.8442176  0.53817486\n",
       "  0.010  0.8433317  0.53305978\n",
       "  0.012  0.8433317  0.53305978\n",
       "  0.014  0.8433317  0.53305978\n",
       "  0.016  0.8413510  0.52349296\n",
       "  0.018  0.8400480  0.51528594\n",
       "  0.020  0.8381193  0.50351272\n",
       "  0.022  0.8381193  0.50351272\n",
       "  0.024  0.8381193  0.50351272\n",
       "  0.026  0.8381193  0.50351272\n",
       "  0.028  0.8381193  0.50351272\n",
       "  0.030  0.8381193  0.50351272\n",
       "  0.032  0.8381193  0.50351272\n",
       "  0.034  0.8352011  0.48749911\n",
       "  0.036  0.8326470  0.47340390\n",
       "  0.038  0.8267570  0.44688035\n",
       "  0.040  0.8248289  0.43893150\n",
       "  0.042  0.8248289  0.43893150\n",
       "  0.044  0.8248289  0.43893150\n",
       "  0.046  0.8248289  0.43893150\n",
       "  0.048  0.8248289  0.43893150\n",
       "  0.050  0.8231084  0.42467058\n",
       "  0.052  0.8174798  0.37478096\n",
       "  0.054  0.8138837  0.33679015\n",
       "  0.056  0.8118514  0.30751485\n",
       "  0.058  0.8118514  0.30751485\n",
       "  0.060  0.8118514  0.30751485\n",
       "  0.062  0.8118514  0.30751485\n",
       "  0.064  0.8118514  0.30751485\n",
       "  0.066  0.8099233  0.29697206\n",
       "  0.068  0.7971025  0.22226318\n",
       "  0.070  0.7958512  0.21465656\n",
       "  0.072  0.7958512  0.21465656\n",
       "  0.074  0.7958512  0.21465656\n",
       "  0.076  0.7689601  0.05701508\n",
       "  0.078  0.7593684  0.00000000\n",
       "  0.080  0.7593684  0.00000000\n",
       "  0.082  0.7593684  0.00000000\n",
       "  0.084  0.7593684  0.00000000\n",
       "  0.086  0.7593684  0.00000000\n",
       "  0.088  0.7593684  0.00000000\n",
       "  0.090  0.7593684  0.00000000\n",
       "  0.092  0.7593684  0.00000000\n",
       "  0.094  0.7593684  0.00000000\n",
       "  0.096  0.7593684  0.00000000\n",
       "  0.098  0.7593684  0.00000000\n",
       "  0.100  0.7593684  0.00000000\n",
       "\n",
       "Accuracy was used to select the optimal model using the largest value.\n",
       "The final value used for the model was cp = 0.002."
      ]
     },
     "metadata": {},
     "output_type": "display_data"
    }
   ],
   "source": [
    "# Solution:\n",
    "set.seed(2)\n",
    "\n",
    "# Specify use of k-fold cross validation with 10 folds:\n",
    "\n",
    "fitControl = trainControl( method = \"cv\", number = 10 )\n",
    "\n",
    "# Specify grid of cp values that we wish to evaluate:\n",
    "\n",
    "cartGrid = expand.grid( .cp = seq(0.002,0.1,0.002))\n",
    "\n",
    "# Run the train function and view the result:\n",
    "\n",
    "train( over50k ~ . , data = train, method = \"rpart\", trControl = fitControl, tuneGrid = cartGrid)"
   ]
  },
  {
   "cell_type": "markdown",
   "metadata": {},
   "source": [
    "The above output suggests that the best value was cp = 0.002, corresponding to the lowest cp value. If we look more closely at the accuracy at different cp values, we can see that it seems to be decreasing steadily as the cp value increases. Often, the cp value needs to become quite low before the accuracy begins to deteriorate."
   ]
  },
  {
   "cell_type": "markdown",
   "metadata": {},
   "source": [
    "### Problem 4.2 - Selecting cp by Cross-Validation\n",
    "\n",
    "Fit a CART model to the training data using this value of cp. What is the prediction accuracy on the test set?"
   ]
  },
  {
   "cell_type": "code",
   "execution_count": 20,
   "metadata": {},
   "outputs": [
    {
     "data": {
      "text/plain": [
       "        predictTestcartcp\n",
       "          <=50K  >50K\n",
       "   <=50K   9178   535\n",
       "   >50K    1240  1838"
      ]
     },
     "metadata": {},
     "output_type": "display_data"
    },
    {
     "data": {
      "text/html": [
       "0.86123055273239"
      ],
      "text/latex": [
       "0.86123055273239"
      ],
      "text/markdown": [
       "0.86123055273239"
      ],
      "text/plain": [
       "[1] 0.8612306"
      ]
     },
     "metadata": {},
     "output_type": "display_data"
    }
   ],
   "source": [
    "# Solution:\n",
    "# Create a CART model\n",
    "\n",
    "modelcartcp = rpart(over50k~., data=train, method=\"class\", cp=0.002)\n",
    "\n",
    "# Make predictions on the test set\n",
    "\n",
    "predictTestcartcp = predict(modelcartcp, newdata=test, type=\"class\")\n",
    "\n",
    "# Generate confusion matrix with the command\n",
    "\n",
    "table(test$over50k, predictTestcartcp)\n",
    "\n",
    "# The accuracy is (see output below):\n",
    "(9178+1838)/(9178+535+1240+1838)"
   ]
  },
  {
   "cell_type": "markdown",
   "metadata": {},
   "source": [
    "### Problem 4.3 - Selecting cp by Cross-Validation\n",
    "\n",
    "Compared to the original accuracy using the default value of cp, this new CART model is an improvement, and so we should clearly favor this new model over the old one -- or should we? Plot the CART tree for this model. How many splits are there?\n",
    "\n",
    "Solution (see code cell below): There are 18 splits in diagram below.\n",
    "\n",
    "This highlights one important tradeoff in building predictive models. By tuning cp, we improved our accuracy by over 1%, but our tree became significantly more complicated. In some applications, such an improvement in accuracy would be worth the loss in interpretability. In others, we may prefer a less accurate model that is simpler to understand and describe over a more accurate -- but more complicated -- model."
   ]
  },
  {
   "cell_type": "code",
   "execution_count": 21,
   "metadata": {},
   "outputs": [
    {
     "data": {
      "image/png": "[encoded data removed]",
      "text/plain": [
       "plot without title"
      ]
     },
     "metadata": {},
     "output_type": "display_data"
    }
   ],
   "source": [
    "prp(modelcartcp)"
   ]
  }
 ],
 "metadata": {
  "kernelspec": {
   "display_name": "R",
   "language": "R",
   "name": "ir"
  },
  "language_info": {
   "codemirror_mode": "r",
   "file_extension": ".r",
   "mimetype": "text/x-r-source",
   "name": "R",
   "pygments_lexer": "r",
   "version": "3.4.3"
  }
 },
 "nbformat": 4,
 "nbformat_minor": 2
}
