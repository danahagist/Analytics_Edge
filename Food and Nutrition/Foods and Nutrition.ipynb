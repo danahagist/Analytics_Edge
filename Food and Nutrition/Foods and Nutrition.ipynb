{
 "cells": [
  {
   "cell_type": "markdown",
   "metadata": {},
   "source": [
    "# Importance of Food and Nutrition\n",
    "## Compiled By: Dana Hagist\n",
    "\n",
    "This project is based on the Analytics Edge recitation, \"The Importance of Food and Nutrition.\"\n",
    "\n",
    "Data source is also from Analytics Edge."
   ]
  },
  {
   "cell_type": "code",
   "execution_count": 114,
   "metadata": {},
   "outputs": [
    {
     "name": "stdout",
     "output_type": "stream",
     "text": [
      "'data.frame':\t7058 obs. of  16 variables:\n",
      " $ ID          : int  1001 1002 1003 1004 1005 1006 1007 1008 1009 1010 ...\n",
      " $ Description : Factor w/ 7054 levels \"ABALONE,MIXED SPECIES,RAW\",..: 1303 1302 1298 2303 2304 2305 2306 2307 2308 2309 ...\n",
      " $ Calories    : int  717 717 876 353 371 334 300 376 403 387 ...\n",
      " $ Protein     : num  0.85 0.85 0.28 21.4 23.24 ...\n",
      " $ TotalFat    : num  81.1 81.1 99.5 28.7 29.7 ...\n",
      " $ Carbohydrate: num  0.06 0.06 0 2.34 2.79 0.45 0.46 3.06 1.28 4.78 ...\n",
      " $ Sodium      : int  714 827 2 1395 560 629 842 690 621 700 ...\n",
      " $ SaturatedFat: num  51.4 50.5 61.9 18.7 18.8 ...\n",
      " $ Cholesterol : int  215 219 256 75 94 100 72 93 105 103 ...\n",
      " $ Sugar       : num  0.06 0.06 0 0.5 0.51 0.45 0.46 NA 0.52 NA ...\n",
      " $ Calcium     : int  24 24 4 528 674 184 388 673 721 643 ...\n",
      " $ Iron        : num  0.02 0.16 0 0.31 0.43 0.5 0.33 0.64 0.68 0.21 ...\n",
      " $ Potassium   : int  24 26 5 256 136 152 187 93 98 95 ...\n",
      " $ VitaminC    : num  0 0 0 0 0 0 0 0 0 0 ...\n",
      " $ VitaminE    : num  2.32 2.32 2.8 0.25 0.26 0.24 0.21 NA 0.29 NA ...\n",
      " $ VitaminD    : num  1.5 1.5 1.8 0.5 0.5 0.5 0.4 NA 0.6 NA ...\n"
     ]
    }
   ],
   "source": [
    "# Reading in dataset and looking at structure\n",
    "setwd('C:/Users/a83644/Documents/Coursework/Analytics Edge/Food and Nutrition')\n",
    "USDA = read.csv('USDA.csv')\n",
    "str(USDA)"
   ]
  },
  {
   "cell_type": "code",
   "execution_count": 115,
   "metadata": {},
   "outputs": [
    {
     "data": {
      "text/plain": [
       "       ID       \n",
       " Min.   : 1001  \n",
       " 1st Qu.: 8387  \n",
       " Median :13294  \n",
       " Mean   :14260  \n",
       " 3rd Qu.:18337  \n",
       " Max.   :93600  \n",
       "                \n",
       "                                                       Description  \n",
       " BEEF,CHUCK,UNDER BLADE CNTR STEAK,BNLESS,DENVER CUT,LN,0\" FA:   2  \n",
       " CAMPBELL,CAMPBELL'S SEL MICROWAVEABLE BOWLS,HEA             :   2  \n",
       " OIL,INDUSTRIAL,PALM KERNEL (HYDROGENATED),CONFECTION FAT    :   2  \n",
       " POPCORN,OIL-POPPED,LOFAT                                    :   2  \n",
       " ABALONE,MIXED SPECIES,RAW                                   :   1  \n",
       " ABALONE,MXD SP,CKD,FRIED                                    :   1  \n",
       " (Other)                                                     :7048  \n",
       "    Calories        Protein         TotalFat       Carbohydrate   \n",
       " Min.   :  0.0   Min.   : 0.00   Min.   :  0.00   Min.   :  0.00  \n",
       " 1st Qu.: 85.0   1st Qu.: 2.29   1st Qu.:  0.72   1st Qu.:  0.00  \n",
       " Median :181.0   Median : 8.20   Median :  4.37   Median :  7.13  \n",
       " Mean   :219.7   Mean   :11.71   Mean   : 10.32   Mean   : 20.70  \n",
       " 3rd Qu.:331.0   3rd Qu.:20.43   3rd Qu.: 12.70   3rd Qu.: 28.17  \n",
       " Max.   :902.0   Max.   :88.32   Max.   :100.00   Max.   :100.00  \n",
       " NA's   :1       NA's   :1       NA's   :1        NA's   :1       \n",
       "     Sodium         SaturatedFat     Cholesterol          Sugar       \n",
       " Min.   :    0.0   Min.   : 0.000   Min.   :   0.00   Min.   : 0.000  \n",
       " 1st Qu.:   37.0   1st Qu.: 0.172   1st Qu.:   0.00   1st Qu.: 0.000  \n",
       " Median :   79.0   Median : 1.256   Median :   3.00   Median : 1.395  \n",
       " Mean   :  322.1   Mean   : 3.452   Mean   :  41.55   Mean   : 8.257  \n",
       " 3rd Qu.:  386.0   3rd Qu.: 4.028   3rd Qu.:  69.00   3rd Qu.: 7.875  \n",
       " Max.   :38758.0   Max.   :95.600   Max.   :3100.00   Max.   :99.800  \n",
       " NA's   :84        NA's   :301      NA's   :288       NA's   :1910    \n",
       "    Calcium             Iron           Potassium          VitaminC       \n",
       " Min.   :   0.00   Min.   :  0.000   Min.   :    0.0   Min.   :   0.000  \n",
       " 1st Qu.:   9.00   1st Qu.:  0.520   1st Qu.:  135.0   1st Qu.:   0.000  \n",
       " Median :  19.00   Median :  1.330   Median :  250.0   Median :   0.000  \n",
       " Mean   :  73.53   Mean   :  2.828   Mean   :  301.4   Mean   :   9.436  \n",
       " 3rd Qu.:  56.00   3rd Qu.:  2.620   3rd Qu.:  348.0   3rd Qu.:   3.100  \n",
       " Max.   :7364.00   Max.   :123.600   Max.   :16500.0   Max.   :2400.000  \n",
       " NA's   :136       NA's   :123       NA's   :409       NA's   :332       \n",
       "    VitaminE          VitaminD       \n",
       " Min.   :  0.000   Min.   :  0.0000  \n",
       " 1st Qu.:  0.120   1st Qu.:  0.0000  \n",
       " Median :  0.270   Median :  0.0000  \n",
       " Mean   :  1.488   Mean   :  0.5769  \n",
       " 3rd Qu.:  0.710   3rd Qu.:  0.1000  \n",
       " Max.   :149.400   Max.   :250.0000  \n",
       " NA's   :2720      NA's   :2834      "
      ]
     },
     "metadata": {},
     "output_type": "display_data"
    }
   ],
   "source": [
    "# Next, using the summary function for summary statistics\n",
    "summary(USDA)"
   ]
  },
  {
   "cell_type": "markdown",
   "metadata": {},
   "source": [
    "The above suggests an extremely high value for the top sodium, when looking at the other range of values.  Worth investigating what this is."
   ]
  },
  {
   "cell_type": "code",
   "execution_count": 116,
   "metadata": {},
   "outputs": [
    {
     "data": {
      "text/html": [
       "<ol class=list-inline>\n",
       "\t<li>714</li>\n",
       "\t<li>827</li>\n",
       "\t<li>2</li>\n",
       "\t<li>1395</li>\n",
       "\t<li>560</li>\n",
       "\t<li>629</li>\n",
       "</ol>\n"
      ],
      "text/latex": [
       "\\begin{enumerate*}\n",
       "\\item 714\n",
       "\\item 827\n",
       "\\item 2\n",
       "\\item 1395\n",
       "\\item 560\n",
       "\\item 629\n",
       "\\end{enumerate*}\n"
      ],
      "text/markdown": [
       "1. 714\n",
       "2. 827\n",
       "3. 2\n",
       "4. 1395\n",
       "5. 560\n",
       "6. 629\n",
       "\n",
       "\n"
      ],
      "text/plain": [
       "[1]  714  827    2 1395  560  629"
      ]
     },
     "metadata": {},
     "output_type": "display_data"
    }
   ],
   "source": [
    "# Can use head function to look at first 5 values)\n",
    "head(USDA$Sodium)"
   ]
  },
  {
   "cell_type": "code",
   "execution_count": 117,
   "metadata": {},
   "outputs": [
    {
     "data": {
      "text/html": [
       "265"
      ],
      "text/latex": [
       "265"
      ],
      "text/markdown": [
       "265"
      ],
      "text/plain": [
       "[1] 265"
      ]
     },
     "metadata": {},
     "output_type": "display_data"
    }
   ],
   "source": [
    "# Using which.max to determine highest sodium food\n",
    "which.max(USDA$Sodium)"
   ]
  },
  {
   "cell_type": "code",
   "execution_count": 118,
   "metadata": {},
   "outputs": [
    {
     "data": {
      "text/html": [
       "<ol class=list-inline>\n",
       "\t<li>'ID'</li>\n",
       "\t<li>'Description'</li>\n",
       "\t<li>'Calories'</li>\n",
       "\t<li>'Protein'</li>\n",
       "\t<li>'TotalFat'</li>\n",
       "\t<li>'Carbohydrate'</li>\n",
       "\t<li>'Sodium'</li>\n",
       "\t<li>'SaturatedFat'</li>\n",
       "\t<li>'Cholesterol'</li>\n",
       "\t<li>'Sugar'</li>\n",
       "\t<li>'Calcium'</li>\n",
       "\t<li>'Iron'</li>\n",
       "\t<li>'Potassium'</li>\n",
       "\t<li>'VitaminC'</li>\n",
       "\t<li>'VitaminE'</li>\n",
       "\t<li>'VitaminD'</li>\n",
       "</ol>\n"
      ],
      "text/latex": [
       "\\begin{enumerate*}\n",
       "\\item 'ID'\n",
       "\\item 'Description'\n",
       "\\item 'Calories'\n",
       "\\item 'Protein'\n",
       "\\item 'TotalFat'\n",
       "\\item 'Carbohydrate'\n",
       "\\item 'Sodium'\n",
       "\\item 'SaturatedFat'\n",
       "\\item 'Cholesterol'\n",
       "\\item 'Sugar'\n",
       "\\item 'Calcium'\n",
       "\\item 'Iron'\n",
       "\\item 'Potassium'\n",
       "\\item 'VitaminC'\n",
       "\\item 'VitaminE'\n",
       "\\item 'VitaminD'\n",
       "\\end{enumerate*}\n"
      ],
      "text/markdown": [
       "1. 'ID'\n",
       "2. 'Description'\n",
       "3. 'Calories'\n",
       "4. 'Protein'\n",
       "5. 'TotalFat'\n",
       "6. 'Carbohydrate'\n",
       "7. 'Sodium'\n",
       "8. 'SaturatedFat'\n",
       "9. 'Cholesterol'\n",
       "10. 'Sugar'\n",
       "11. 'Calcium'\n",
       "12. 'Iron'\n",
       "13. 'Potassium'\n",
       "14. 'VitaminC'\n",
       "15. 'VitaminE'\n",
       "16. 'VitaminD'\n",
       "\n",
       "\n"
      ],
      "text/plain": [
       " [1] \"ID\"           \"Description\"  \"Calories\"     \"Protein\"      \"TotalFat\"    \n",
       " [6] \"Carbohydrate\" \"Sodium\"       \"SaturatedFat\" \"Cholesterol\"  \"Sugar\"       \n",
       "[11] \"Calcium\"      \"Iron\"         \"Potassium\"    \"VitaminC\"     \"VitaminE\"    \n",
       "[16] \"VitaminD\"    "
      ]
     },
     "metadata": {},
     "output_type": "display_data"
    }
   ],
   "source": [
    "# Look at column names with name function\n",
    "names(USDA)"
   ]
  },
  {
   "cell_type": "code",
   "execution_count": 119,
   "metadata": {},
   "outputs": [
    {
     "data": {
      "text/html": [
       "SALT,TABLE"
      ],
      "text/latex": [
       "SALT,TABLE"
      ],
      "text/markdown": [
       "SALT,TABLE"
      ],
      "text/plain": [
       "[1] SALT,TABLE\n",
       "7054 Levels: ABALONE,MIXED SPECIES,RAW ABALONE,MXD SP,CKD,FRIED ... ZWIEBACK"
      ]
     },
     "metadata": {},
     "output_type": "display_data"
    }
   ],
   "source": [
    "# Can use index above to find name of this food.\n",
    "USDA$Description[265]"
   ]
  },
  {
   "cell_type": "code",
   "execution_count": 120,
   "metadata": {},
   "outputs": [
    {
     "data": {
      "text/html": [
       "10"
      ],
      "text/latex": [
       "10"
      ],
      "text/markdown": [
       "10"
      ],
      "text/plain": [
       "[1] 10"
      ]
     },
     "metadata": {},
     "output_type": "display_data"
    }
   ],
   "source": [
    "# Subsetting high sodium foods\n",
    "HighSodium = subset(USDA, Sodium>10000)\n",
    "# Number of rows in resulting dataframe\n",
    "nrow(HighSodium)"
   ]
  },
  {
   "cell_type": "code",
   "execution_count": 121,
   "metadata": {},
   "outputs": [
    {
     "data": {
      "text/html": [
       "<ol class=list-inline>\n",
       "\t<li>SALT,TABLE</li>\n",
       "\t<li>SOUP,BF BROTH OR BOUILLON,PDR,DRY</li>\n",
       "\t<li>SOUP,BEEF BROTH,CUBED,DRY</li>\n",
       "\t<li>SOUP,CHICK BROTH OR BOUILLON,DRY</li>\n",
       "\t<li>SOUP,CHICK BROTH CUBES,DRY</li>\n",
       "\t<li>GRAVY,AU JUS,DRY</li>\n",
       "\t<li>ADOBO FRESCO</li>\n",
       "\t<li>LEAVENING AGENTS,BAKING PDR,DOUBLE-ACTING,NA AL SULFATE</li>\n",
       "\t<li>LEAVENING AGENTS,BAKING SODA</li>\n",
       "\t<li>DESSERTS,RENNIN,TABLETS,UNSWTND</li>\n",
       "</ol>\n"
      ],
      "text/latex": [
       "\\begin{enumerate*}\n",
       "\\item SALT,TABLE\n",
       "\\item SOUP,BF BROTH OR BOUILLON,PDR,DRY\n",
       "\\item SOUP,BEEF BROTH,CUBED,DRY\n",
       "\\item SOUP,CHICK BROTH OR BOUILLON,DRY\n",
       "\\item SOUP,CHICK BROTH CUBES,DRY\n",
       "\\item GRAVY,AU JUS,DRY\n",
       "\\item ADOBO FRESCO\n",
       "\\item LEAVENING AGENTS,BAKING PDR,DOUBLE-ACTING,NA AL SULFATE\n",
       "\\item LEAVENING AGENTS,BAKING SODA\n",
       "\\item DESSERTS,RENNIN,TABLETS,UNSWTND\n",
       "\\end{enumerate*}\n"
      ],
      "text/markdown": [
       "1. SALT,TABLE\n",
       "2. SOUP,BF BROTH OR BOUILLON,PDR,DRY\n",
       "3. SOUP,BEEF BROTH,CUBED,DRY\n",
       "4. SOUP,CHICK BROTH OR BOUILLON,DRY\n",
       "5. SOUP,CHICK BROTH CUBES,DRY\n",
       "6. GRAVY,AU JUS,DRY\n",
       "7. ADOBO FRESCO\n",
       "8. LEAVENING AGENTS,BAKING PDR,DOUBLE-ACTING,NA AL SULFATE\n",
       "9. LEAVENING AGENTS,BAKING SODA\n",
       "10. DESSERTS,RENNIN,TABLETS,UNSWTND\n",
       "\n",
       "\n"
      ],
      "text/plain": [
       " [1] SALT,TABLE                                             \n",
       " [2] SOUP,BF BROTH OR BOUILLON,PDR,DRY                      \n",
       " [3] SOUP,BEEF BROTH,CUBED,DRY                              \n",
       " [4] SOUP,CHICK BROTH OR BOUILLON,DRY                       \n",
       " [5] SOUP,CHICK BROTH CUBES,DRY                             \n",
       " [6] GRAVY,AU JUS,DRY                                       \n",
       " [7] ADOBO FRESCO                                           \n",
       " [8] LEAVENING AGENTS,BAKING PDR,DOUBLE-ACTING,NA AL SULFATE\n",
       " [9] LEAVENING AGENTS,BAKING SODA                           \n",
       "[10] DESSERTS,RENNIN,TABLETS,UNSWTND                        \n",
       "7054 Levels: ABALONE,MIXED SPECIES,RAW ABALONE,MXD SP,CKD,FRIED ... ZWIEBACK"
      ]
     },
     "metadata": {},
     "output_type": "display_data"
    }
   ],
   "source": [
    "# Looking at foods in dataframe\n",
    "HighSodium$Description"
   ]
  },
  {
   "cell_type": "code",
   "execution_count": 122,
   "metadata": {},
   "outputs": [
    {
     "data": {
      "text/html": [
       "4154"
      ],
      "text/latex": [
       "4154"
      ],
      "text/markdown": [
       "4154"
      ],
      "text/plain": [
       "[1] 4154"
      ]
     },
     "metadata": {},
     "output_type": "display_data"
    }
   ],
   "source": [
    "# Can use match function to find value for attribute\n",
    "# Looking for sodium in caviar\n",
    "match(\"CAVIAR\", USDA$Description)"
   ]
  },
  {
   "cell_type": "code",
   "execution_count": 123,
   "metadata": {},
   "outputs": [
    {
     "data": {
      "text/html": [
       "1500"
      ],
      "text/latex": [
       "1500"
      ],
      "text/markdown": [
       "1500"
      ],
      "text/plain": [
       "[1] 1500"
      ]
     },
     "metadata": {},
     "output_type": "display_data"
    }
   ],
   "source": [
    "# Look up sodium level in caviar\n",
    "USDA$Sodium[4154]"
   ]
  },
  {
   "cell_type": "code",
   "execution_count": 124,
   "metadata": {},
   "outputs": [
    {
     "data": {
      "text/html": [
       "1500"
      ],
      "text/latex": [
       "1500"
      ],
      "text/markdown": [
       "1500"
      ],
      "text/plain": [
       "[1] 1500"
      ]
     },
     "metadata": {},
     "output_type": "display_data"
    }
   ],
   "source": [
    "# Combining above steps into one step\n",
    "USDA$Sodium[match('CAVIAR', USDA$Description)]"
   ]
  },
  {
   "cell_type": "code",
   "execution_count": 125,
   "metadata": {},
   "outputs": [
    {
     "data": {
      "text/plain": [
       "   Min. 1st Qu.  Median    Mean 3rd Qu.    Max.    NA's \n",
       "    0.0    37.0    79.0   322.1   386.0 38758.0      84 "
      ]
     },
     "metadata": {},
     "output_type": "display_data"
    }
   ],
   "source": [
    "# Looking up mean of Sodium\n",
    "summary(USDA$Sodium)"
   ]
  },
  {
   "cell_type": "code",
   "execution_count": 126,
   "metadata": {},
   "outputs": [
    {
     "data": {
      "text/html": [
       "1045.41693115788"
      ],
      "text/latex": [
       "1045.41693115788"
      ],
      "text/markdown": [
       "1045.41693115788"
      ],
      "text/plain": [
       "[1] 1045.417"
      ]
     },
     "metadata": {},
     "output_type": "display_data"
    }
   ],
   "source": [
    "# Looking at standard deviation with na values removed\n",
    "sd(USDA$Sodium, na.rm=TRUE)"
   ]
  },
  {
   "cell_type": "code",
   "execution_count": 127,
   "metadata": {},
   "outputs": [
    {
     "data": {
      "image/png": "[encoded data removed]",
      "text/plain": [
       "Plot with title \"Protein vs Fat\""
      ]
     },
     "metadata": {},
     "output_type": "display_data"
    }
   ],
   "source": [
    "# Plotting Protein against TotalFat\n",
    "plot(USDA$Protein, USDA$TotalFat, xlab=\"Protein\", ylab= \"Fat\", main = \"Protein vs Fat\")"
   ]
  },
  {
   "cell_type": "code",
   "execution_count": 128,
   "metadata": {},
   "outputs": [
    {
     "data": {
      "image/png": "[encoded data removed]",
      "text/plain": [
       "Plot with title \"Histogram of Vitamin C Levels\""
      ]
     },
     "metadata": {},
     "output_type": "display_data"
    }
   ],
   "source": [
    "# Creating histogram of Vitamin C\n",
    "hist(USDA$VitaminC, xlab = \"Vitamin C (mg)\", main=\"Histogram of Vitamin C Levels\", xlim = c(0,100), breaks = 2000)"
   ]
  },
  {
   "cell_type": "code",
   "execution_count": 129,
   "metadata": {},
   "outputs": [
    {
     "data": {
      "image/png": "[encoded data removed]",
      "text/plain": [
       "Plot with title \"Boxplot of Sugar Levels\""
      ]
     },
     "metadata": {},
     "output_type": "display_data"
    }
   ],
   "source": [
    "boxplot(USDA$Sugar, main = \"Boxplot of Sugar Levels\", ylab=\"Sugar (g)\")"
   ]
  },
  {
   "cell_type": "code",
   "execution_count": 130,
   "metadata": {},
   "outputs": [
    {
     "data": {
      "text/html": [
       "FALSE"
      ],
      "text/latex": [
       "FALSE"
      ],
      "text/markdown": [
       "FALSE"
      ],
      "text/plain": [
       "[1] FALSE"
      ]
     },
     "metadata": {},
     "output_type": "display_data"
    }
   ],
   "source": [
    "# Comparing value in dataframe to mean\n",
    "USDA$Sodium[50]>mean(USDA$Sodium, na.rm=TRUE)"
   ]
  },
  {
   "cell_type": "code",
   "execution_count": 131,
   "metadata": {},
   "outputs": [
    {
     "name": "stdout",
     "output_type": "stream",
     "text": [
      "'data.frame':\t7058 obs. of  17 variables:\n",
      " $ ID          : int  1001 1002 1003 1004 1005 1006 1007 1008 1009 1010 ...\n",
      " $ Description : Factor w/ 7054 levels \"ABALONE,MIXED SPECIES,RAW\",..: 1303 1302 1298 2303 2304 2305 2306 2307 2308 2309 ...\n",
      " $ Calories    : int  717 717 876 353 371 334 300 376 403 387 ...\n",
      " $ Protein     : num  0.85 0.85 0.28 21.4 23.24 ...\n",
      " $ TotalFat    : num  81.1 81.1 99.5 28.7 29.7 ...\n",
      " $ Carbohydrate: num  0.06 0.06 0 2.34 2.79 0.45 0.46 3.06 1.28 4.78 ...\n",
      " $ Sodium      : int  714 827 2 1395 560 629 842 690 621 700 ...\n",
      " $ SaturatedFat: num  51.4 50.5 61.9 18.7 18.8 ...\n",
      " $ Cholesterol : int  215 219 256 75 94 100 72 93 105 103 ...\n",
      " $ Sugar       : num  0.06 0.06 0 0.5 0.51 0.45 0.46 NA 0.52 NA ...\n",
      " $ Calcium     : int  24 24 4 528 674 184 388 673 721 643 ...\n",
      " $ Iron        : num  0.02 0.16 0 0.31 0.43 0.5 0.33 0.64 0.68 0.21 ...\n",
      " $ Potassium   : int  24 26 5 256 136 152 187 93 98 95 ...\n",
      " $ VitaminC    : num  0 0 0 0 0 0 0 0 0 0 ...\n",
      " $ VitaminE    : num  2.32 2.32 2.8 0.25 0.26 0.24 0.21 NA 0.29 NA ...\n",
      " $ VitaminD    : num  1.5 1.5 1.8 0.5 0.5 0.5 0.4 NA 0.6 NA ...\n",
      " $ HighSodium  : num  1 1 0 1 1 1 1 1 1 1 ...\n"
     ]
    }
   ],
   "source": [
    "# Adding HighSodium variable to dataframe\n",
    "USDA$HighSodium = as.numeric(USDA$Sodium > mean(USDA$Sodium, na.rm=TRUE))\n",
    "str(USDA)"
   ]
  },
  {
   "cell_type": "code",
   "execution_count": 132,
   "metadata": {},
   "outputs": [
    {
     "name": "stdout",
     "output_type": "stream",
     "text": [
      "'data.frame':\t7058 obs. of  20 variables:\n",
      " $ ID          : int  1001 1002 1003 1004 1005 1006 1007 1008 1009 1010 ...\n",
      " $ Description : Factor w/ 7054 levels \"ABALONE,MIXED SPECIES,RAW\",..: 1303 1302 1298 2303 2304 2305 2306 2307 2308 2309 ...\n",
      " $ Calories    : int  717 717 876 353 371 334 300 376 403 387 ...\n",
      " $ Protein     : num  0.85 0.85 0.28 21.4 23.24 ...\n",
      " $ TotalFat    : num  81.1 81.1 99.5 28.7 29.7 ...\n",
      " $ Carbohydrate: num  0.06 0.06 0 2.34 2.79 0.45 0.46 3.06 1.28 4.78 ...\n",
      " $ Sodium      : int  714 827 2 1395 560 629 842 690 621 700 ...\n",
      " $ SaturatedFat: num  51.4 50.5 61.9 18.7 18.8 ...\n",
      " $ Cholesterol : int  215 219 256 75 94 100 72 93 105 103 ...\n",
      " $ Sugar       : num  0.06 0.06 0 0.5 0.51 0.45 0.46 NA 0.52 NA ...\n",
      " $ Calcium     : int  24 24 4 528 674 184 388 673 721 643 ...\n",
      " $ Iron        : num  0.02 0.16 0 0.31 0.43 0.5 0.33 0.64 0.68 0.21 ...\n",
      " $ Potassium   : int  24 26 5 256 136 152 187 93 98 95 ...\n",
      " $ VitaminC    : num  0 0 0 0 0 0 0 0 0 0 ...\n",
      " $ VitaminE    : num  2.32 2.32 2.8 0.25 0.26 0.24 0.21 NA 0.29 NA ...\n",
      " $ VitaminD    : num  1.5 1.5 1.8 0.5 0.5 0.5 0.4 NA 0.6 NA ...\n",
      " $ HighSodium  : num  1 1 0 1 1 1 1 1 1 1 ...\n",
      " $ HighProtein : num  0 0 0 1 1 1 1 1 1 1 ...\n",
      " $ HighFat     : num  1 1 1 1 1 1 1 1 1 1 ...\n",
      " $ HighCarbs   : num  0 0 0 0 0 0 0 0 0 0 ...\n"
     ]
    },
    {
     "data": {
      "text/plain": [
       "       ID       \n",
       " Min.   : 1001  \n",
       " 1st Qu.: 8387  \n",
       " Median :13294  \n",
       " Mean   :14260  \n",
       " 3rd Qu.:18337  \n",
       " Max.   :93600  \n",
       "                \n",
       "                                                       Description  \n",
       " BEEF,CHUCK,UNDER BLADE CNTR STEAK,BNLESS,DENVER CUT,LN,0\" FA:   2  \n",
       " CAMPBELL,CAMPBELL'S SEL MICROWAVEABLE BOWLS,HEA             :   2  \n",
       " OIL,INDUSTRIAL,PALM KERNEL (HYDROGENATED),CONFECTION FAT    :   2  \n",
       " POPCORN,OIL-POPPED,LOFAT                                    :   2  \n",
       " ABALONE,MIXED SPECIES,RAW                                   :   1  \n",
       " ABALONE,MXD SP,CKD,FRIED                                    :   1  \n",
       " (Other)                                                     :7048  \n",
       "    Calories        Protein         TotalFat       Carbohydrate   \n",
       " Min.   :  0.0   Min.   : 0.00   Min.   :  0.00   Min.   :  0.00  \n",
       " 1st Qu.: 85.0   1st Qu.: 2.29   1st Qu.:  0.72   1st Qu.:  0.00  \n",
       " Median :181.0   Median : 8.20   Median :  4.37   Median :  7.13  \n",
       " Mean   :219.7   Mean   :11.71   Mean   : 10.32   Mean   : 20.70  \n",
       " 3rd Qu.:331.0   3rd Qu.:20.43   3rd Qu.: 12.70   3rd Qu.: 28.17  \n",
       " Max.   :902.0   Max.   :88.32   Max.   :100.00   Max.   :100.00  \n",
       " NA's   :1       NA's   :1       NA's   :1        NA's   :1       \n",
       "     Sodium         SaturatedFat     Cholesterol          Sugar       \n",
       " Min.   :    0.0   Min.   : 0.000   Min.   :   0.00   Min.   : 0.000  \n",
       " 1st Qu.:   37.0   1st Qu.: 0.172   1st Qu.:   0.00   1st Qu.: 0.000  \n",
       " Median :   79.0   Median : 1.256   Median :   3.00   Median : 1.395  \n",
       " Mean   :  322.1   Mean   : 3.452   Mean   :  41.55   Mean   : 8.257  \n",
       " 3rd Qu.:  386.0   3rd Qu.: 4.028   3rd Qu.:  69.00   3rd Qu.: 7.875  \n",
       " Max.   :38758.0   Max.   :95.600   Max.   :3100.00   Max.   :99.800  \n",
       " NA's   :84        NA's   :301      NA's   :288       NA's   :1910    \n",
       "    Calcium             Iron           Potassium          VitaminC       \n",
       " Min.   :   0.00   Min.   :  0.000   Min.   :    0.0   Min.   :   0.000  \n",
       " 1st Qu.:   9.00   1st Qu.:  0.520   1st Qu.:  135.0   1st Qu.:   0.000  \n",
       " Median :  19.00   Median :  1.330   Median :  250.0   Median :   0.000  \n",
       " Mean   :  73.53   Mean   :  2.828   Mean   :  301.4   Mean   :   9.436  \n",
       " 3rd Qu.:  56.00   3rd Qu.:  2.620   3rd Qu.:  348.0   3rd Qu.:   3.100  \n",
       " Max.   :7364.00   Max.   :123.600   Max.   :16500.0   Max.   :2400.000  \n",
       " NA's   :136       NA's   :123       NA's   :409       NA's   :332       \n",
       "    VitaminE          VitaminD          HighSodium      HighProtein    \n",
       " Min.   :  0.000   Min.   :  0.0000   Min.   :0.0000   Min.   :0.0000  \n",
       " 1st Qu.:  0.120   1st Qu.:  0.0000   1st Qu.:0.0000   1st Qu.:0.0000  \n",
       " Median :  0.270   Median :  0.0000   Median :0.0000   Median :0.0000  \n",
       " Mean   :  1.488   Mean   :  0.5769   Mean   :0.2997   Mean   :0.4166  \n",
       " 3rd Qu.:  0.710   3rd Qu.:  0.1000   3rd Qu.:1.0000   3rd Qu.:1.0000  \n",
       " Max.   :149.400   Max.   :250.0000   Max.   :1.0000   Max.   :1.0000  \n",
       " NA's   :2720      NA's   :2834       NA's   :84       NA's   :1       \n",
       "    HighFat         HighCarbs     \n",
       " Min.   :0.0000   Min.   :0.0000  \n",
       " 1st Qu.:0.0000   1st Qu.:0.0000  \n",
       " Median :0.0000   Median :0.0000  \n",
       " Mean   :0.2953   Mean   :0.3061  \n",
       " 3rd Qu.:1.0000   3rd Qu.:1.0000  \n",
       " Max.   :1.0000   Max.   :1.0000  \n",
       " NA's   :1        NA's   :1       "
      ]
     },
     "metadata": {},
     "output_type": "display_data"
    }
   ],
   "source": [
    "# Adding high protein, fat and carbs variables to the dataframe.\n",
    "USDA$HighProtein = as.numeric(USDA$Protein > mean(USDA$Protein, na.rm=TRUE))\n",
    "USDA$HighFat = as.numeric(USDA$TotalFat > mean(USDA$TotalFat, na.rm=TRUE))\n",
    "USDA$HighCarbs = as.numeric(USDA$Carbohydrate > mean(USDA$Carbohydrate, na.rm=TRUE))\n",
    "str(USDA)\n",
    "summary(USDA)"
   ]
  },
  {
   "cell_type": "code",
   "execution_count": 133,
   "metadata": {},
   "outputs": [
    {
     "data": {
      "text/plain": [
       "\n",
       "   0    1 \n",
       "4884 2090 "
      ]
     },
     "metadata": {},
     "output_type": "display_data"
    },
    {
     "data": {
      "text/plain": [
       "\n",
       "   0    1 \n",
       "4973 2084 "
      ]
     },
     "metadata": {},
     "output_type": "display_data"
    },
    {
     "data": {
      "text/plain": [
       "\n",
       "   0    1 \n",
       "4897 2160 "
      ]
     },
     "metadata": {},
     "output_type": "display_data"
    }
   ],
   "source": [
    "# Looking at number of observations with high Sodium, Fat, Carbs\n",
    "table(USDA$HighSodium)\n",
    "table(USDA$HighFat)\n",
    "table(USDA$HighCarbs)"
   ]
  },
  {
   "cell_type": "code",
   "execution_count": 134,
   "metadata": {},
   "outputs": [
    {
     "data": {
      "text/plain": [
       "   \n",
       "       0    1\n",
       "  0 3529 1355\n",
       "  1 1378  712"
      ]
     },
     "metadata": {},
     "output_type": "display_data"
    }
   ],
   "source": [
    "# Looking at table with HighSodium and HighFat variables\n",
    "table(USDA$HighSodium, USDA$HighFat)"
   ]
  },
  {
   "cell_type": "code",
   "execution_count": 144,
   "metadata": {
    "scrolled": false
   },
   "outputs": [
    {
     "name": "stdout",
     "output_type": "stream",
     "text": [
      "'data.frame':\t7058 obs. of  20 variables:\n",
      " $ ID          : int  1001 1002 1003 1004 1005 1006 1007 1008 1009 1010 ...\n",
      " $ Description : Factor w/ 7054 levels \"ABALONE,MIXED SPECIES,RAW\",..: 1303 1302 1298 2303 2304 2305 2306 2307 2308 2309 ...\n",
      " $ Calories    : int  717 717 876 353 371 334 300 376 403 387 ...\n",
      " $ Protein     : num  0.85 0.85 0.28 21.4 23.24 ...\n",
      " $ TotalFat    : num  81.1 81.1 99.5 28.7 29.7 ...\n",
      " $ Carbohydrate: num  0.06 0.06 0 2.34 2.79 0.45 0.46 3.06 1.28 4.78 ...\n",
      " $ Sodium      : int  714 827 2 1395 560 629 842 690 621 700 ...\n",
      " $ SaturatedFat: num  51.4 50.5 61.9 18.7 18.8 ...\n",
      " $ Cholesterol : int  215 219 256 75 94 100 72 93 105 103 ...\n",
      " $ Sugar       : num  0.06 0.06 0 0.5 0.51 0.45 0.46 NA 0.52 NA ...\n",
      " $ Calcium     : int  24 24 4 528 674 184 388 673 721 643 ...\n",
      " $ Iron        : num  0.02 0.16 0 0.31 0.43 0.5 0.33 0.64 0.68 0.21 ...\n",
      " $ Potassium   : int  24 26 5 256 136 152 187 93 98 95 ...\n",
      " $ VitaminC    : num  0 0 0 0 0 0 0 0 0 0 ...\n",
      " $ VitaminE    : num  2.32 2.32 2.8 0.25 0.26 0.24 0.21 NA 0.29 NA ...\n",
      " $ VitaminD    : num  1.5 1.5 1.8 0.5 0.5 0.5 0.4 NA 0.6 NA ...\n",
      " $ HighSodium  : num  1 1 0 1 1 1 1 1 1 1 ...\n",
      " $ HighProtein : num  0 0 0 1 1 1 1 1 1 1 ...\n",
      " $ HighFat     : num  1 1 1 1 1 1 1 1 1 1 ...\n",
      " $ HighCarbs   : num  0 0 0 0 0 0 0 0 0 0 ...\n",
      "       0        1 \n",
      "2.558945 3.197294 \n"
     ]
    }
   ],
   "source": [
    "# Looking at avg iron sorted by high and low protein\n",
    "str(USDA)\n",
    "print(tapply(USDA$Iron, USDA$HighProtein, mean, na.rm=TRUE))\n",
    "# Using print with tapply as Jupyter notebook throwing subscript error without it"
   ]
  },
  {
   "cell_type": "code",
   "execution_count": 142,
   "metadata": {},
   "outputs": [
    {
     "name": "stdout",
     "output_type": "stream",
     "text": [
      "     0      1 \n",
      "1677.6 2400.0 \n"
     ]
    }
   ],
   "source": [
    "print(tapply(USDA$VitaminC, USDA$HighCarbs, max, na.rm=TRUE))"
   ]
  }
 ],
 "metadata": {
  "kernelspec": {
   "display_name": "R",
   "language": "R",
   "name": "ir"
  },
  "language_info": {
   "codemirror_mode": "r",
   "file_extension": ".r",
   "mimetype": "text/x-r-source",
   "name": "R",
   "pygments_lexer": "r",
   "version": "3.4.3"
  }
 },
 "nbformat": 4,
 "nbformat_minor": 2
}
