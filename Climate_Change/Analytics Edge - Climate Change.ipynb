{
 "cells": [
  {
   "cell_type": "markdown",
   "metadata": {},
   "source": [
    "# Analytics Edge: Climate Change\n",
    "\n",
    "## Climate Change\n",
    "\n",
    "### Compiled By: Dana Hagist\n",
    "### Project Provided By: Analytics Edge\n",
    "\n",
    "There have been many studies documenting that the average global temperature has been increasing over the last century. The consequences of a continued rise in global temperature will be dire. Rising sea levels and an increased frequency of extreme weather events will affect billions of people.\n",
    "\n",
    "In this problem, we will attempt to study the relationship between average global temperature and several other factors.\n",
    "\n",
    "The file climate_change.csv contains climate data from May 1983 to December 2008. The available variables include:\n",
    "- Year: the observation year.\n",
    "- Month: the observation month.\n",
    "- Temp: the difference in degrees Celsius between the average global temperature in that period and a reference value. This data comes from the Climatic Research Unit at the University of East Anglia.\n",
    "- CO2, N2O, CH4, CFC.11, CFC.12: atmospheric concentrations of carbon dioxide (CO2), nitrous oxide (N2O), methane  (CH4), trichlorofluoromethane (CCl3F; commonly referred to as CFC-11) and dichlorodifluoromethane (CCl2F2; commonly referred to as CFC-12), respectively. This data comes from the ESRL/NOAA Global Monitoring Division.\n",
    "    - CO2, N2O and CH4 are expressed in ppmv (parts per million by volume  -- i.e., 397 ppmv of CO2 means that CO2 constitutes 397 millionths of the total volume of the atmosphere)\n",
    "    - CFC.11 and CFC.12 are expressed in ppbv (parts per billion by volume). \n",
    "- Aerosols: the mean stratospheric aerosol optical depth at 550 nm. This variable is linked to volcanoes, as volcanic eruptions result in new particles being added to the atmosphere, which affect how much of the sun's energy is reflected back into space. This data is from the Godard Institute for Space Studies at NASA.\n",
    "- TSI: the total solar irradiance (TSI) in W/m2 (the rate at which the sun's energy is deposited per unit area). Due to sunspots and other solar phenomena, the amount of energy that is given off by the sun varies substantially with time. This data is from the SOLARIS-HEPPA project website.\n",
    "- MEI: multivariate El Nino Southern Oscillation index (MEI), a measure of the strength of the El Nino/La Nina-Southern Oscillation (a weather effect in the Pacific Ocean that affects global temperatures). This data comes from the ESRL/NOAA Physical Sciences Division."
   ]
  },
  {
   "cell_type": "markdown",
   "metadata": {},
   "source": [
    "### Problem 1.1 - Creating Our First Model \n",
    "\n",
    "We are interested in how changes in these variables affect future temperatures, as well as how well these variables explain temperature changes so far. To do this, first read the dataset climate_change.csv into R.\n",
    "\n",
    "Then, split the data into a training set, consisting of all the observations up to and including 2006, and a testing set consisting of the remaining years (hint: use subset). A training set refers to the data that will be used to build the model (this is the data we give to the lm() function), and a testing set refers to the data we will use to test our predictive ability. \n",
    "\n",
    "Next, build a linear regression model to predict the dependent variable Temp, using MEI, CO2, CH4, N2O, CFC.11, CFC.12, TSI, and Aerosols as independent variables (Year and Month should NOT be used in the model). Use the training set to build the model.\n",
    "\n",
    "Indicate the model R2 (the \"Multiple R-squared\" value)"
   ]
  },
  {
   "cell_type": "code",
   "execution_count": 2,
   "metadata": {},
   "outputs": [
    {
     "name": "stdout",
     "output_type": "stream",
     "text": [
      "'data.frame':\t284 obs. of  11 variables:\n",
      " $ Year    : int  1983 1983 1983 1983 1983 1983 1983 1983 1984 1984 ...\n",
      " $ Month   : int  5 6 7 8 9 10 11 12 1 2 ...\n",
      " $ MEI     : num  2.556 2.167 1.741 1.13 0.428 ...\n",
      " $ CO2     : num  346 346 344 342 340 ...\n",
      " $ CH4     : num  1639 1634 1633 1631 1648 ...\n",
      " $ N2O     : num  304 304 304 304 304 ...\n",
      " $ CFC.11  : num  191 192 193 194 194 ...\n",
      " $ CFC.12  : num  350 352 354 356 357 ...\n",
      " $ TSI     : num  1366 1366 1366 1366 1366 ...\n",
      " $ Aerosols: num  0.0863 0.0794 0.0731 0.0673 0.0619 0.0569 0.0524 0.0486 0.0451 0.0416 ...\n",
      " $ Temp    : num  0.109 0.118 0.137 0.176 0.149 0.093 0.232 0.078 0.089 0.013 ...\n"
     ]
    }
   ],
   "source": [
    "# Read in dataset and split into training and test\n",
    "setwd('C:/Users/dhagi/Documents/Coursework/Analytics Edge/Climate Change')\n",
    "climate = read.csv(\"climate_change.csv\")\n",
    "train = subset(climate, Year<=2006)\n",
    "test = subset(climate, Year > 2006)\n",
    "\n",
    "# Looking at the struture of the training data\n",
    "str(train)"
   ]
  },
  {
   "cell_type": "code",
   "execution_count": 3,
   "metadata": {},
   "outputs": [
    {
     "data": {
      "text/plain": [
       "\n",
       "Call:\n",
       "lm(formula = Temp ~ MEI + CO2 + CH4 + N2O + CFC.11 + CFC.12 + \n",
       "    TSI + Aerosols, data = train)\n",
       "\n",
       "Residuals:\n",
       "     Min       1Q   Median       3Q      Max \n",
       "-0.25888 -0.05913 -0.00082  0.05649  0.32433 \n",
       "\n",
       "Coefficients:\n",
       "              Estimate Std. Error t value Pr(>|t|)    \n",
       "(Intercept) -1.246e+02  1.989e+01  -6.265 1.43e-09 ***\n",
       "MEI          6.421e-02  6.470e-03   9.923  < 2e-16 ***\n",
       "CO2          6.457e-03  2.285e-03   2.826  0.00505 ** \n",
       "CH4          1.240e-04  5.158e-04   0.240  0.81015    \n",
       "N2O         -1.653e-02  8.565e-03  -1.930  0.05467 .  \n",
       "CFC.11      -6.631e-03  1.626e-03  -4.078 5.96e-05 ***\n",
       "CFC.12       3.808e-03  1.014e-03   3.757  0.00021 ***\n",
       "TSI          9.314e-02  1.475e-02   6.313 1.10e-09 ***\n",
       "Aerosols    -1.538e+00  2.133e-01  -7.210 5.41e-12 ***\n",
       "---\n",
       "Signif. codes:  0 '***' 0.001 '**' 0.01 '*' 0.05 '.' 0.1 ' ' 1\n",
       "\n",
       "Residual standard error: 0.09171 on 275 degrees of freedom\n",
       "Multiple R-squared:  0.7509,\tAdjusted R-squared:  0.7436 \n",
       "F-statistic: 103.6 on 8 and 275 DF,  p-value: < 2.2e-16\n"
      ]
     },
     "metadata": {},
     "output_type": "display_data"
    }
   ],
   "source": [
    "# Creating the linear model with the variables outlined above\n",
    "model = lm(Temp ~ MEI + CO2 + CH4 + N2O + CFC.11 + CFC.12 + TSI + Aerosols, data = train)\n",
    "summary(model)"
   ]
  },
  {
   "cell_type": "markdown",
   "metadata": {},
   "source": [
    "Solution: The model R2 for this model is 0.7509, meaning about 75% of the variation in the dependent model can be explained by our model."
   ]
  },
  {
   "cell_type": "markdown",
   "metadata": {},
   "source": [
    "#### Problem 1.2 - Creating Our First Model\n",
    "\n",
    "Which variables are significant in the model? We will consider a variable signficant only if the p-value is below 0.05."
   ]
  },
  {
   "cell_type": "markdown",
   "metadata": {},
   "source": [
    "Solution: Based on the significance codes above, it appears that MEI, C02, CFC.11, CFC.12, TSI, and Aerosols all are statisticlaly significant."
   ]
  },
  {
   "cell_type": "markdown",
   "metadata": {},
   "source": [
    "#### Problem 2.1 - Understanding the Model \n",
    "\n",
    "Current scientific opinion is that nitrous oxide and CFC-11 are greenhouse gases: gases that are able to trap heat from the sun and contribute to the heating of the Earth. However, the regression coefficients of both the N2O and CFC-11 variables are negative, indicating that increasing atmospheric concentrations of either of these two compounds is associated with lower global temperatures.\n",
    "\n",
    "Which of the following is the simplest correct explanation for this contradiction?"
   ]
  },
  {
   "cell_type": "markdown",
   "metadata": {},
   "source": [
    "Solution: It is most likely that the reason for the negative coefficients on these variables is the way that they interact with the other variables in the model.  Each coefficient represents the impact of that independent variable on the dependent variable assuming all other variables are held constant."
   ]
  },
  {
   "cell_type": "markdown",
   "metadata": {},
   "source": [
    "#### Problem 2.2 - Understanding the Model \n",
    "\n",
    "Compute the correlations between all the variables in the training set. Which of the independent variables is N2O highly correlated with (absolute correlation greater than 0.7)?"
   ]
  },
  {
   "cell_type": "code",
   "execution_count": 4,
   "metadata": {},
   "outputs": [
    {
     "data": {
      "text/html": [
       "<table>\n",
       "<thead><tr><th></th><th scope=col>Year</th><th scope=col>Month</th><th scope=col>MEI</th><th scope=col>CO2</th><th scope=col>CH4</th><th scope=col>N2O</th><th scope=col>CFC.11</th><th scope=col>CFC.12</th><th scope=col>TSI</th><th scope=col>Aerosols</th><th scope=col>Temp</th></tr></thead>\n",
       "<tbody>\n",
       "\t<tr><th scope=row>Year</th><td> 1.00000000  </td><td>-0.0279419602</td><td>-0.0369876842</td><td> 0.98274939  </td><td> 0.91565945  </td><td> 0.99384523  </td><td> 0.56910643  </td><td> 0.8970116635</td><td> 0.17030201  </td><td>-0.34524670  </td><td> 0.78679714  </td></tr>\n",
       "\t<tr><th scope=row>Month</th><td>-0.02794196  </td><td> 1.0000000000</td><td> 0.0008846905</td><td>-0.10673246  </td><td> 0.01856866  </td><td> 0.01363153  </td><td>-0.01311122  </td><td> 0.0006751102</td><td>-0.03460619  </td><td> 0.01488954  </td><td>-0.09985674  </td></tr>\n",
       "\t<tr><th scope=row>MEI</th><td>-0.03698768  </td><td> 0.0008846905</td><td> 1.0000000000</td><td>-0.04114717  </td><td>-0.03341930  </td><td>-0.05081978  </td><td> 0.06900044  </td><td> 0.0082855443</td><td>-0.15449192  </td><td> 0.34023779  </td><td> 0.17247075  </td></tr>\n",
       "\t<tr><th scope=row>CO2</th><td> 0.98274939  </td><td>-0.1067324607</td><td>-0.0411471651</td><td> 1.00000000  </td><td> 0.87727963  </td><td> 0.97671982  </td><td> 0.51405975  </td><td> 0.8526896272</td><td> 0.17742893  </td><td>-0.35615480  </td><td> 0.78852921  </td></tr>\n",
       "\t<tr><th scope=row>CH4</th><td> 0.91565945  </td><td> 0.0185686624</td><td>-0.0334193014</td><td> 0.87727963  </td><td> 1.00000000  </td><td> 0.89983864  </td><td> 0.77990402  </td><td> 0.9636162478</td><td> 0.24552844  </td><td>-0.26780919  </td><td> 0.70325502  </td></tr>\n",
       "\t<tr><th scope=row>N2O</th><td> 0.99384523  </td><td> 0.0136315303</td><td>-0.0508197755</td><td> 0.97671982  </td><td> 0.89983864  </td><td> 1.00000000  </td><td> 0.52247732  </td><td> 0.8679307757</td><td> 0.19975668  </td><td>-0.33705457  </td><td> 0.77863893  </td></tr>\n",
       "\t<tr><th scope=row>CFC.11</th><td> 0.56910643  </td><td>-0.0131112236</td><td> 0.0690004387</td><td> 0.51405975  </td><td> 0.77990402  </td><td> 0.52247732  </td><td> 1.00000000  </td><td> 0.8689851828</td><td> 0.27204596  </td><td>-0.04392120  </td><td> 0.40771029  </td></tr>\n",
       "\t<tr><th scope=row>CFC.12</th><td> 0.89701166  </td><td> 0.0006751102</td><td> 0.0082855443</td><td> 0.85268963  </td><td> 0.96361625  </td><td> 0.86793078  </td><td> 0.86898518  </td><td> 1.0000000000</td><td> 0.25530281  </td><td>-0.22513124  </td><td> 0.68755755  </td></tr>\n",
       "\t<tr><th scope=row>TSI</th><td> 0.17030201  </td><td>-0.0346061935</td><td>-0.1544919227</td><td> 0.17742893  </td><td> 0.24552844  </td><td> 0.19975668  </td><td> 0.27204596  </td><td> 0.2553028138</td><td> 1.00000000  </td><td> 0.05211651  </td><td> 0.24338269  </td></tr>\n",
       "\t<tr><th scope=row>Aerosols</th><td>-0.34524670  </td><td> 0.0148895406</td><td> 0.3402377871</td><td>-0.35615480  </td><td>-0.26780919  </td><td>-0.33705457  </td><td>-0.04392120  </td><td>-0.2251312440</td><td> 0.05211651  </td><td> 1.00000000  </td><td>-0.38491375  </td></tr>\n",
       "\t<tr><th scope=row>Temp</th><td> 0.78679714  </td><td>-0.0998567411</td><td> 0.1724707512</td><td> 0.78852921  </td><td> 0.70325502  </td><td> 0.77863893  </td><td> 0.40771029  </td><td> 0.6875575483</td><td> 0.24338269  </td><td>-0.38491375  </td><td> 1.00000000  </td></tr>\n",
       "</tbody>\n",
       "</table>\n"
      ],
      "text/latex": [
       "\\begin{tabular}{r|lllllllllll}\n",
       "  & Year & Month & MEI & CO2 & CH4 & N2O & CFC.11 & CFC.12 & TSI & Aerosols & Temp\\\\\n",
       "\\hline\n",
       "\tYear &  1.00000000   & -0.0279419602 & -0.0369876842 &  0.98274939   &  0.91565945   &  0.99384523   &  0.56910643   &  0.8970116635 &  0.17030201   & -0.34524670   &  0.78679714  \\\\\n",
       "\tMonth & -0.02794196   &  1.0000000000 &  0.0008846905 & -0.10673246   &  0.01856866   &  0.01363153   & -0.01311122   &  0.0006751102 & -0.03460619   &  0.01488954   & -0.09985674  \\\\\n",
       "\tMEI & -0.03698768   &  0.0008846905 &  1.0000000000 & -0.04114717   & -0.03341930   & -0.05081978   &  0.06900044   &  0.0082855443 & -0.15449192   &  0.34023779   &  0.17247075  \\\\\n",
       "\tCO2 &  0.98274939   & -0.1067324607 & -0.0411471651 &  1.00000000   &  0.87727963   &  0.97671982   &  0.51405975   &  0.8526896272 &  0.17742893   & -0.35615480   &  0.78852921  \\\\\n",
       "\tCH4 &  0.91565945   &  0.0185686624 & -0.0334193014 &  0.87727963   &  1.00000000   &  0.89983864   &  0.77990402   &  0.9636162478 &  0.24552844   & -0.26780919   &  0.70325502  \\\\\n",
       "\tN2O &  0.99384523   &  0.0136315303 & -0.0508197755 &  0.97671982   &  0.89983864   &  1.00000000   &  0.52247732   &  0.8679307757 &  0.19975668   & -0.33705457   &  0.77863893  \\\\\n",
       "\tCFC.11 &  0.56910643   & -0.0131112236 &  0.0690004387 &  0.51405975   &  0.77990402   &  0.52247732   &  1.00000000   &  0.8689851828 &  0.27204596   & -0.04392120   &  0.40771029  \\\\\n",
       "\tCFC.12 &  0.89701166   &  0.0006751102 &  0.0082855443 &  0.85268963   &  0.96361625   &  0.86793078   &  0.86898518   &  1.0000000000 &  0.25530281   & -0.22513124   &  0.68755755  \\\\\n",
       "\tTSI &  0.17030201   & -0.0346061935 & -0.1544919227 &  0.17742893   &  0.24552844   &  0.19975668   &  0.27204596   &  0.2553028138 &  1.00000000   &  0.05211651   &  0.24338269  \\\\\n",
       "\tAerosols & -0.34524670   &  0.0148895406 &  0.3402377871 & -0.35615480   & -0.26780919   & -0.33705457   & -0.04392120   & -0.2251312440 &  0.05211651   &  1.00000000   & -0.38491375  \\\\\n",
       "\tTemp &  0.78679714   & -0.0998567411 &  0.1724707512 &  0.78852921   &  0.70325502   &  0.77863893   &  0.40771029   &  0.6875575483 &  0.24338269   & -0.38491375   &  1.00000000  \\\\\n",
       "\\end{tabular}\n"
      ],
      "text/markdown": [
       "\n",
       "| <!--/--> | Year | Month | MEI | CO2 | CH4 | N2O | CFC.11 | CFC.12 | TSI | Aerosols | Temp | \n",
       "|---|---|---|---|---|---|---|---|---|---|---|\n",
       "| Year |  1.00000000   | -0.0279419602 | -0.0369876842 |  0.98274939   |  0.91565945   |  0.99384523   |  0.56910643   |  0.8970116635 |  0.17030201   | -0.34524670   |  0.78679714   | \n",
       "| Month | -0.02794196   |  1.0000000000 |  0.0008846905 | -0.10673246   |  0.01856866   |  0.01363153   | -0.01311122   |  0.0006751102 | -0.03460619   |  0.01488954   | -0.09985674   | \n",
       "| MEI | -0.03698768   |  0.0008846905 |  1.0000000000 | -0.04114717   | -0.03341930   | -0.05081978   |  0.06900044   |  0.0082855443 | -0.15449192   |  0.34023779   |  0.17247075   | \n",
       "| CO2 |  0.98274939   | -0.1067324607 | -0.0411471651 |  1.00000000   |  0.87727963   |  0.97671982   |  0.51405975   |  0.8526896272 |  0.17742893   | -0.35615480   |  0.78852921   | \n",
       "| CH4 |  0.91565945   |  0.0185686624 | -0.0334193014 |  0.87727963   |  1.00000000   |  0.89983864   |  0.77990402   |  0.9636162478 |  0.24552844   | -0.26780919   |  0.70325502   | \n",
       "| N2O |  0.99384523   |  0.0136315303 | -0.0508197755 |  0.97671982   |  0.89983864   |  1.00000000   |  0.52247732   |  0.8679307757 |  0.19975668   | -0.33705457   |  0.77863893   | \n",
       "| CFC.11 |  0.56910643   | -0.0131112236 |  0.0690004387 |  0.51405975   |  0.77990402   |  0.52247732   |  1.00000000   |  0.8689851828 |  0.27204596   | -0.04392120   |  0.40771029   | \n",
       "| CFC.12 |  0.89701166   |  0.0006751102 |  0.0082855443 |  0.85268963   |  0.96361625   |  0.86793078   |  0.86898518   |  1.0000000000 |  0.25530281   | -0.22513124   |  0.68755755   | \n",
       "| TSI |  0.17030201   | -0.0346061935 | -0.1544919227 |  0.17742893   |  0.24552844   |  0.19975668   |  0.27204596   |  0.2553028138 |  1.00000000   |  0.05211651   |  0.24338269   | \n",
       "| Aerosols | -0.34524670   |  0.0148895406 |  0.3402377871 | -0.35615480   | -0.26780919   | -0.33705457   | -0.04392120   | -0.2251312440 |  0.05211651   |  1.00000000   | -0.38491375   | \n",
       "| Temp |  0.78679714   | -0.0998567411 |  0.1724707512 |  0.78852921   |  0.70325502   |  0.77863893   |  0.40771029   |  0.6875575483 |  0.24338269   | -0.38491375   |  1.00000000   | \n",
       "\n",
       "\n"
      ],
      "text/plain": [
       "         Year        Month         MEI           CO2         CH4        \n",
       "Year      1.00000000 -0.0279419602 -0.0369876842  0.98274939  0.91565945\n",
       "Month    -0.02794196  1.0000000000  0.0008846905 -0.10673246  0.01856866\n",
       "MEI      -0.03698768  0.0008846905  1.0000000000 -0.04114717 -0.03341930\n",
       "CO2       0.98274939 -0.1067324607 -0.0411471651  1.00000000  0.87727963\n",
       "CH4       0.91565945  0.0185686624 -0.0334193014  0.87727963  1.00000000\n",
       "N2O       0.99384523  0.0136315303 -0.0508197755  0.97671982  0.89983864\n",
       "CFC.11    0.56910643 -0.0131112236  0.0690004387  0.51405975  0.77990402\n",
       "CFC.12    0.89701166  0.0006751102  0.0082855443  0.85268963  0.96361625\n",
       "TSI       0.17030201 -0.0346061935 -0.1544919227  0.17742893  0.24552844\n",
       "Aerosols -0.34524670  0.0148895406  0.3402377871 -0.35615480 -0.26780919\n",
       "Temp      0.78679714 -0.0998567411  0.1724707512  0.78852921  0.70325502\n",
       "         N2O         CFC.11      CFC.12        TSI         Aerosols   \n",
       "Year      0.99384523  0.56910643  0.8970116635  0.17030201 -0.34524670\n",
       "Month     0.01363153 -0.01311122  0.0006751102 -0.03460619  0.01488954\n",
       "MEI      -0.05081978  0.06900044  0.0082855443 -0.15449192  0.34023779\n",
       "CO2       0.97671982  0.51405975  0.8526896272  0.17742893 -0.35615480\n",
       "CH4       0.89983864  0.77990402  0.9636162478  0.24552844 -0.26780919\n",
       "N2O       1.00000000  0.52247732  0.8679307757  0.19975668 -0.33705457\n",
       "CFC.11    0.52247732  1.00000000  0.8689851828  0.27204596 -0.04392120\n",
       "CFC.12    0.86793078  0.86898518  1.0000000000  0.25530281 -0.22513124\n",
       "TSI       0.19975668  0.27204596  0.2553028138  1.00000000  0.05211651\n",
       "Aerosols -0.33705457 -0.04392120 -0.2251312440  0.05211651  1.00000000\n",
       "Temp      0.77863893  0.40771029  0.6875575483  0.24338269 -0.38491375\n",
       "         Temp       \n",
       "Year      0.78679714\n",
       "Month    -0.09985674\n",
       "MEI       0.17247075\n",
       "CO2       0.78852921\n",
       "CH4       0.70325502\n",
       "N2O       0.77863893\n",
       "CFC.11    0.40771029\n",
       "CFC.12    0.68755755\n",
       "TSI       0.24338269\n",
       "Aerosols -0.38491375\n",
       "Temp      1.00000000"
      ]
     },
     "metadata": {},
     "output_type": "display_data"
    }
   ],
   "source": [
    "# Finding correlations between variables in train\n",
    "cor(train)"
   ]
  },
  {
   "cell_type": "markdown",
   "metadata": {},
   "source": [
    "Solution:CO2, CH4, CFC.12, and Temp (to a lesser extent) are all highly correlated with N20.  It is worth noting that they are also all highly positively correlated, meaning when one is high, so are the others."
   ]
  },
  {
   "cell_type": "markdown",
   "metadata": {},
   "source": [
    "Task: Which of the independent variables is CFC.11 highly correlated with?"
   ]
  },
  {
   "cell_type": "markdown",
   "metadata": {},
   "source": [
    "Solution: CH4 and CFC.12 are highly corrrelated with the CFC.11 variable."
   ]
  },
  {
   "cell_type": "markdown",
   "metadata": {},
   "source": [
    "#### Problem 3 - Simplifying the Model \n",
    "\n",
    "Given that the correlations are so high, let us focus on the N2O variable and build a model with only MEI, TSI, Aerosols and N2O as independent variables. Remember to use the training set to build the model.\n",
    "\n",
    "Indicate the coefficient of N2O in this reduced model."
   ]
  },
  {
   "cell_type": "code",
   "execution_count": 7,
   "metadata": {},
   "outputs": [
    {
     "data": {
      "text/plain": [
       "\n",
       "Call:\n",
       "lm(formula = Temp ~ MEI + TSI + Aerosols + N2O, data = train)\n",
       "\n",
       "Residuals:\n",
       "     Min       1Q   Median       3Q      Max \n",
       "-0.27916 -0.05975 -0.00595  0.05672  0.34195 \n",
       "\n",
       "Coefficients:\n",
       "               Estimate  Std. Error t value             Pr(>|t|)    \n",
       "(Intercept) -116.226858   20.223028  -5.747    0.000000023735836 ***\n",
       "MEI            0.064186    0.006652   9.649 < 0.0000000000000002 ***\n",
       "TSI            0.079490    0.014875   5.344    0.000000189373222 ***\n",
       "Aerosols      -1.701737    0.217996  -7.806    0.000000000000119 ***\n",
       "N2O            0.025320    0.001311  19.307 < 0.0000000000000002 ***\n",
       "---\n",
       "Signif. codes:  0 '***' 0.001 '**' 0.01 '*' 0.05 '.' 0.1 ' ' 1\n",
       "\n",
       "Residual standard error: 0.09547 on 279 degrees of freedom\n",
       "Multiple R-squared:  0.7261,\tAdjusted R-squared:  0.7222 \n",
       "F-statistic: 184.9 on 4 and 279 DF,  p-value: < 0.00000000000000022\n"
      ]
     },
     "metadata": {},
     "output_type": "display_data"
    }
   ],
   "source": [
    "# Using an option to reduce scientific notation\n",
    "options(scipen=999)\n",
    "\n",
    "# Creating our simplified model\n",
    "model2 = lm(Temp~ MEI + TSI + Aerosols + N2O, data = train)\n",
    "summary(model2)"
   ]
  },
  {
   "cell_type": "markdown",
   "metadata": {},
   "source": [
    "Solution: The N2O coefficient in this model is 0.023664, which is a larger magnitude that in our previous model and the sign has reversed."
   ]
  },
  {
   "cell_type": "markdown",
   "metadata": {},
   "source": [
    "Task: Indicate the model R2(R-Squared)"
   ]
  },
  {
   "cell_type": "markdown",
   "metadata": {},
   "source": [
    "Solution: The model R2 for this model is .7261, a little bit lower than our previous R2 in the larger model.  However, we have not lost a lot of explanatory power considering the large number of variables we have been able to omit and simplify."
   ]
  },
  {
   "cell_type": "markdown",
   "metadata": {},
   "source": [
    "#### Problem 4 - Automatically Building the Model \n",
    "\n",
    "We have many variables in this problem, and as we have seen above, dropping some from the model does not decrease model quality. R provides a function, step, that will automate the procedure of trying different combinations of variables to find a good compromise of model simplicity and R2. This trade-off is formalized by the Akaike information criterion (AIC) - it can be informally thought of as the quality of the model with a penalty for the number of variables in the model.\n",
    "\n",
    "The step function has one argument - the name of the initial model. It returns a simplified model. Use the step function in R to derive a new model, with the full model as the initial model (HINT: If your initial full model was called \"climateLM\", you could create a new model with the step function by typing step(climateLM). Be sure to save your new model to a variable name so that you can look at the summary. For more information about the step function, type ?step in your R console.)\n",
    "\n",
    "Indicate the R2 value of the model produced by the step function."
   ]
  },
  {
   "cell_type": "code",
   "execution_count": 8,
   "metadata": {},
   "outputs": [
    {
     "name": "stdout",
     "output_type": "stream",
     "text": [
      "Start:  AIC=-1348.16\n",
      "Temp ~ MEI + CO2 + CH4 + N2O + CFC.11 + CFC.12 + TSI + Aerosols\n",
      "\n",
      "           Df Sum of Sq    RSS     AIC\n",
      "- CH4       1   0.00049 2.3135 -1350.1\n",
      "<none>                  2.3130 -1348.2\n",
      "- N2O       1   0.03132 2.3443 -1346.3\n",
      "- CO2       1   0.06719 2.3802 -1342.0\n",
      "- CFC.12    1   0.11874 2.4318 -1335.9\n",
      "- CFC.11    1   0.13986 2.4529 -1333.5\n",
      "- TSI       1   0.33516 2.6482 -1311.7\n",
      "- Aerosols  1   0.43727 2.7503 -1301.0\n",
      "- MEI       1   0.82823 3.1412 -1263.2\n",
      "\n",
      "Step:  AIC=-1350.1\n",
      "Temp ~ MEI + CO2 + N2O + CFC.11 + CFC.12 + TSI + Aerosols\n",
      "\n",
      "           Df Sum of Sq    RSS     AIC\n",
      "<none>                  2.3135 -1350.1\n",
      "- N2O       1   0.03133 2.3448 -1348.3\n",
      "- CO2       1   0.06672 2.3802 -1344.0\n",
      "- CFC.12    1   0.13023 2.4437 -1336.5\n",
      "- CFC.11    1   0.13938 2.4529 -1335.5\n",
      "- TSI       1   0.33500 2.6485 -1313.7\n",
      "- Aerosols  1   0.43987 2.7534 -1302.7\n",
      "- MEI       1   0.83118 3.1447 -1264.9\n"
     ]
    },
    {
     "data": {
      "text/plain": [
       "\n",
       "Call:\n",
       "lm(formula = Temp ~ MEI + CO2 + N2O + CFC.11 + CFC.12 + TSI + \n",
       "    Aerosols, data = train)\n",
       "\n",
       "Residuals:\n",
       "     Min       1Q   Median       3Q      Max \n",
       "-0.25770 -0.05994 -0.00104  0.05588  0.32203 \n",
       "\n",
       "Coefficients:\n",
       "                Estimate   Std. Error t value             Pr(>|t|)    \n",
       "(Intercept) -124.5151778   19.8501125  -6.273     0.00000000136513 ***\n",
       "MEI            0.0640678    0.0064339   9.958 < 0.0000000000000002 ***\n",
       "CO2            0.0064015    0.0022689   2.821             0.005129 ** \n",
       "N2O           -0.0160211    0.0082873  -1.933             0.054234 .  \n",
       "CFC.11        -0.0066094    0.0016208  -4.078     0.00005953626341 ***\n",
       "CFC.12         0.0038676    0.0009812   3.942             0.000103 ***\n",
       "TSI            0.0931155    0.0147293   6.322     0.00000000103549 ***\n",
       "Aerosols      -1.5402058    0.2126158  -7.244     0.00000000000436 ***\n",
       "---\n",
       "Signif. codes:  0 '***' 0.001 '**' 0.01 '*' 0.05 '.' 0.1 ' ' 1\n",
       "\n",
       "Residual standard error: 0.09155 on 276 degrees of freedom\n",
       "Multiple R-squared:  0.7508,\tAdjusted R-squared:  0.7445 \n",
       "F-statistic: 118.8 on 7 and 276 DF,  p-value: < 0.00000000000000022\n"
      ]
     },
     "metadata": {},
     "output_type": "display_data"
    }
   ],
   "source": [
    "# Using step function with original model\n",
    "stepmodel = step(model)\n",
    "summary(stepmodel)"
   ]
  },
  {
   "cell_type": "markdown",
   "metadata": {},
   "source": [
    "Solution: The model R2 produced by the step function is .7508"
   ]
  },
  {
   "cell_type": "markdown",
   "metadata": {},
   "source": [
    "Task: Which variable(s) were eliminated from the full model by the step function?"
   ]
  },
  {
   "cell_type": "markdown",
   "metadata": {},
   "source": [
    "Solution: CH4 was removed in creation of the step model."
   ]
  },
  {
   "cell_type": "markdown",
   "metadata": {},
   "source": [
    "#### Problem 5 - Testing on Unseen Data \n",
    "\n",
    "We have developed an understanding of how well we can fit a linear regression to the training data, but does the model quality hold when applied to unseen data?\n",
    "\n",
    "Using the model produced from the step function, calculate temperature predictions for the testing data set, using the predict function.\n",
    "\n",
    "Enter the testing set R2."
   ]
  },
  {
   "cell_type": "code",
   "execution_count": 9,
   "metadata": {},
   "outputs": [
    {
     "data": {
      "text/html": [
       "0.62860512250996"
      ],
      "text/latex": [
       "0.62860512250996"
      ],
      "text/markdown": [
       "0.62860512250996"
      ],
      "text/plain": [
       "[1] 0.6286051"
      ]
     },
     "metadata": {},
     "output_type": "display_data"
    }
   ],
   "source": [
    "tempPredict = predict(stepmodel, newdata=test)\n",
    "SSE = sum((tempPredict - test$Temp)^2)\n",
    "SST = sum((mean(train$Temp) - test$Temp)^2)\n",
    "R2 = 1 - SSE/SST\n",
    "R2"
   ]
  },
  {
   "cell_type": "markdown",
   "metadata": {},
   "source": [
    "Solution: The R2 for the testing set with our step model is .63"
   ]
  },
  {
   "cell_type": "markdown",
   "metadata": {},
   "source": [
    "### Model Predictions\n",
    "\n",
    "Below, we will take a look at the predictions from the model"
   ]
  },
  {
   "cell_type": "code",
   "execution_count": 12,
   "metadata": {},
   "outputs": [
    {
     "data": {
      "text/plain": [
       "           Jan       Feb       Mar       Apr       May       Jun       Jul\n",
       "2017 0.4677808 0.4435404 0.4265541 0.4299162 0.4455113 0.4151422 0.4097367\n",
       "2018 0.3522134 0.3313129 0.3142112 0.3703410 0.4162213 0.4391458 0.4237965\n",
       "           Aug       Sep       Oct       Nov       Dec\n",
       "2017 0.3839390 0.3255595 0.3274147 0.3231401 0.3316704\n",
       "2018 0.3913679 0.3587615 0.3451991 0.3607087 0.3638076"
      ]
     },
     "metadata": {},
     "output_type": "display_data"
    }
   ],
   "source": [
    "Predict_ts <- ts(tempPredict, start=2017, frequency = 12)\n",
    "Predict_ts"
   ]
  }
 ],
 "metadata": {
  "kernelspec": {
   "display_name": "R",
   "language": "R",
   "name": "ir"
  },
  "language_info": {
   "codemirror_mode": "r",
   "file_extension": ".r",
   "mimetype": "text/x-r-source",
   "name": "R",
   "pygments_lexer": "r",
   "version": "3.4.3"
  }
 },
 "nbformat": 4,
 "nbformat_minor": 2
}
